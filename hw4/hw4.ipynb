{
 "cells": [
  {
   "cell_type": "code",
   "execution_count": 1,
   "id": "28853cbf-5c7f-4c41-8f03-fbd9f46ecb8c",
   "metadata": {},
   "outputs": [],
   "source": [
    "import json\n",
    "import spacy"
   ]
  },
  {
   "cell_type": "code",
   "execution_count": 2,
   "id": "3ae852f8-674a-4335-b149-f26cc5c84df6",
   "metadata": {
    "tags": []
   },
   "outputs": [],
   "source": [
    "with open('docs.json') as f:\n",
    "    contents = f.read()\n",
    "    docs = json.loads(contents)"
   ]
  },
  {
   "cell_type": "code",
   "execution_count": 3,
   "id": "3cbfe047-400d-4a99-9403-b80f12b22e14",
   "metadata": {},
   "outputs": [],
   "source": [
    "def yield_sents(docs):\n",
    "    nlp = spacy.load(\"en_core_web_sm\")\n",
    "    didx = 0\n",
    "    for doc in docs:\n",
    "        has_content = False\n",
    "        if \"abstract\" in doc:\n",
    "            for abstract in doc[\"abstract\"]:\n",
    "                if \"text\" in abstract:\n",
    "                    has_content = True\n",
    "                        \n",
    "                    doc = nlp(abstract[\"text\"])\n",
    "                    assert doc.has_annotation(\"SENT_START\")\n",
    "                    for sent in doc.sents:\n",
    "                        yield (didx, sent.lemma_.lower())\n",
    "                        \n",
    "        if has_content:\n",
    "            didx += 1\n"
   ]
  },
  {
   "cell_type": "code",
   "execution_count": 4,
   "id": "7b9426c4-cd7c-4bc6-b665-0ed626f39100",
   "metadata": {},
   "outputs": [],
   "source": [
    "def yield_tokens(sents):\n",
    "    nlp = spacy.load(\"en_core_web_sm\")\n",
    "    for sidx, (didx, sent) in enumerate(sents):\n",
    "        doc = nlp(sent)\n",
    "        for token in doc:\n",
    "           yield (sidx, token.lemma_.lower()) \n"
   ]
  },
  {
   "cell_type": "code",
   "execution_count": 5,
   "id": "80e8ba65-7b84-47ea-a3b2-8e919ec2d735",
   "metadata": {},
   "outputs": [],
   "source": [
    "covid_sents = []\n",
    "for sent in yield_sents(docs[:100]):\n",
    "    covid_sents.append(sent)\n",
    "\n",
    "with open('covid_sents.json', 'w') as f:\n",
    "    json.dump(covid_sents, f, ensure_ascii=False)"
   ]
  },
  {
   "cell_type": "code",
   "execution_count": 6,
   "id": "7adeebee-010e-447a-abbd-9542482e5eeb",
   "metadata": {},
   "outputs": [],
   "source": [
    "covid_tokens = []\n",
    "for token in yield_tokens(covid_sents):\n",
    "    covid_tokens.append(token)\n",
    "\n",
    "with open('covid_tokens.json', 'w') as f:\n",
    "    json.dump(covid_tokens, f, ensure_ascii=False)"
   ]
  },
  {
   "cell_type": "code",
   "execution_count": 7,
   "id": "060235ea-4ee7-4e42-9d5f-3ae89011aa14",
   "metadata": {},
   "outputs": [],
   "source": [
    "bd_sents = []\n",
    "for sent in yield_sents(docs[1000:1100]):\n",
    "    bd_sents.append(sent)\n",
    "\n",
    "with open('bd_sents.json', 'w') as f:\n",
    "    json.dump(bd_sents, f)"
   ]
  },
  {
   "cell_type": "code",
   "execution_count": 8,
   "id": "c30e3d57-8300-49d3-b6fe-06b80b005308",
   "metadata": {},
   "outputs": [],
   "source": [
    "bd_tokens = []\n",
    "for token in yield_tokens(bd_sents):\n",
    "    bd_tokens.append(token)\n",
    "\n",
    "with open('bd_tokens.json', 'w') as f:\n",
    "    json.dump(bd_tokens, f, ensure_ascii=False)"
   ]
  }
 ],
 "metadata": {
  "kernelspec": {
   "display_name": "Python 3",
   "language": "python",
   "name": "python3"
  },
  "language_info": {
   "codemirror_mode": {
    "name": "ipython",
    "version": 3
   },
   "file_extension": ".py",
   "mimetype": "text/x-python",
   "name": "python",
   "nbconvert_exporter": "python",
   "pygments_lexer": "ipython3",
   "version": "3.8.8"
  }
 },
 "nbformat": 4,
 "nbformat_minor": 5
}
