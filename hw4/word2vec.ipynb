{
 "cells": [
  {
   "cell_type": "code",
   "execution_count": 1,
   "id": "b090c498-42d1-4837-81c1-24c24939efa4",
   "metadata": {},
   "outputs": [],
   "source": [
    "import json\n",
    "import spacy\n",
    "from torchtext.data.utils import get_tokenizer\n",
    "from torchtext.vocab import build_vocab_from_iterator, Vocab\n",
    "from typing import List\n",
    "from torch import nn\n",
    "import torch\n",
    "from einops import rearrange\n",
    "import random\n",
    "from tqdm import tqdm"
   ]
  },
  {
   "cell_type": "code",
   "execution_count": 2,
   "id": "3af4be2e-97a6-4d8f-8b94-19b3ffb4d5f1",
   "metadata": {},
   "outputs": [],
   "source": [
    "with open('docs.json') as f:\n",
    "    contents = f.read()\n",
    "    docs = json.loads(contents)"
   ]
  },
  {
   "cell_type": "code",
   "execution_count": 3,
   "id": "ea3aa6f4-640e-461c-9646-aaad58e5b14c",
   "metadata": {},
   "outputs": [],
   "source": [
    "device = torch.device(\"cuda\" if torch.cuda.is_available() else \"cpu\")\n",
    "n_gram = 7\n",
    "bz = 256\n",
    "epochs = 100\n",
    "emb_dim = 64\n",
    "dims = [256,]"
   ]
  },
  {
   "cell_type": "code",
   "execution_count": 4,
   "id": "07780812-9d12-44ed-9a18-fa1c6e392405",
   "metadata": {},
   "outputs": [
    {
     "data": {
      "text/plain": [
       "562"
      ]
     },
     "execution_count": 4,
     "metadata": {},
     "output_type": "execute_result"
    }
   ],
   "source": [
    "def yield_tokens(docs):\n",
    "    nlp = spacy.load(\"en_core_web_sm\")\n",
    "    for doc in docs:\n",
    "        if \"abstract\" in doc:\n",
    "            for abstract in doc[\"abstract\"]:\n",
    "                if \"text\" in abstract:\n",
    "                    doc = nlp(abstract[\"text\"])\n",
    "                    assert doc.has_annotation(\"SENT_START\")\n",
    "                    for sent in doc.sents:\n",
    "                        yield [token.lemma_.lower() for token in sent]\n",
    "\n",
    "vocab = build_vocab_from_iterator(yield_tokens(docs), specials=[\"<unk>\"], min_freq=10)\n",
    "vocab.set_default_index(vocab[\"<unk>\"])\n",
    "\n",
    "vocab.__len__()"
   ]
  },
  {
   "cell_type": "code",
   "execution_count": 5,
   "id": "a2c51302-1c89-45b8-b0b0-6affde733ace",
   "metadata": {},
   "outputs": [
    {
     "name": "stdout",
     "output_type": "stream",
     "text": [
      "['covid-19', ',', 'cause', 'by', 'sars', '-', 'cov-2', 'infection', ',', 'be', 'mild', 'to', 'moderate', 'in', 'the', 'majority', 'of', 'previously', 'healthy', 'individual', ',', 'but', 'can', 'cause', 'life', '-', 'threaten', 'disease', 'or', 'persistent', 'debilitate', 'symptom', 'in', 'some', 'case', '.']\n"
     ]
    }
   ],
   "source": [
    "for ws in yield_tokens(docs):\n",
    "    print(ws)\n",
    "    break"
   ]
  },
  {
   "cell_type": "code",
   "execution_count": 6,
   "id": "6fb47d7e-f9dd-47c7-96be-390dbc262d5f",
   "metadata": {},
   "outputs": [],
   "source": [
    "datas = []\n",
    "for ws in yield_tokens(docs):\n",
    "    for i in range(n_gram//2, len(ws) - n_gram//2):\n",
    "        ctx = [*ws[i-n_gram//2:i], *ws[i+1:i+1+n_gram//2],]\n",
    "        tar = ws[i]\n",
    "        datas.append((ctx, tar))"
   ]
  },
  {
   "cell_type": "code",
   "execution_count": 7,
   "id": "f1895b14-d395-479d-b317-ca2338f805f1",
   "metadata": {},
   "outputs": [],
   "source": [
    "class CBOW(torch.nn.Module):\n",
    "    def __init__(self, n_gram, emb_dim, dims, vocab,):\n",
    "        super(CBOW, self).__init__()\n",
    "        self.vocab = vocab\n",
    "        self.n_gram = n_gram\n",
    "        \n",
    "        self.emb_book = nn.Embedding(vocab.__len__(), emb_dim)\n",
    "        \n",
    "        # dims = [emb_dim*(n_gram-1), *dims]\n",
    "        # dims = [emb_dim*2, *dims]\n",
    "        dims = [emb_dim, *dims]\n",
    "        net = []\n",
    "        for i in range(len(dims)-1):\n",
    "            net.append(nn.Linear(dims[i], dims[i+1]))\n",
    "            net.append(nn.ReLU(),)\n",
    "            \n",
    "        net.append(nn.Linear(dims[-1], vocab.__len__()),)\n",
    "        net.append(nn.LogSoftmax(dim = -1),)\n",
    "            \n",
    "        self.net = nn.ModuleList(net)\n",
    "\n",
    "    def forward(self, ctx_idx):\n",
    "        inp = self.emb_book(ctx_idx)\n",
    "        out = inp.mean(1)\n",
    "        # out = rearrange(inp, \"b n d -> b (n d)\")\n",
    "        # f, b = torch.chunk(inp, 2, 1)\n",
    "        # out = torch.cat([f.mean(1), b.mean(1)], 1)\n",
    "        for layer in self.net:\n",
    "            out = layer(out)\n",
    "        \n",
    "        return out"
   ]
  },
  {
   "cell_type": "code",
   "execution_count": 8,
   "id": "311d28bf-ae1b-4503-9bb6-882c44dd3bdf",
   "metadata": {},
   "outputs": [],
   "source": [
    "model = CBOW(n_gram, emb_dim, dims, vocab).to(device)\n",
    "loss_fn = nn.NLLLoss()\n",
    "\n",
    "optim = torch.optim.Adamax([*model.parameters(),], lr=0.01)"
   ]
  },
  {
   "cell_type": "code",
   "execution_count": 9,
   "id": "8a15d344-6f3a-49a1-9d6e-9834b8d9921a",
   "metadata": {},
   "outputs": [
    {
     "name": "stderr",
     "output_type": "stream",
     "text": [
      "100%|██████████| 114/114 [00:00<00:00, 290.94it/s]\n",
      " 36%|███▌      | 41/114 [00:00<00:00, 408.84it/s]"
     ]
    },
    {
     "name": "stdout",
     "output_type": "stream",
     "text": [
      "epoch: 0, loss: 4.544087686358349\n"
     ]
    },
    {
     "name": "stderr",
     "output_type": "stream",
     "text": [
      "100%|██████████| 114/114 [00:00<00:00, 405.10it/s]\n",
      " 35%|███▌      | 40/114 [00:00<00:00, 390.12it/s]"
     ]
    },
    {
     "name": "stdout",
     "output_type": "stream",
     "text": [
      "epoch: 1, loss: 4.041873703165209\n"
     ]
    },
    {
     "name": "stderr",
     "output_type": "stream",
     "text": [
      "100%|██████████| 114/114 [00:00<00:00, 394.26it/s]\n",
      " 35%|███▌      | 40/114 [00:00<00:00, 391.37it/s]"
     ]
    },
    {
     "name": "stdout",
     "output_type": "stream",
     "text": [
      "epoch: 2, loss: 3.795629492892058\n"
     ]
    },
    {
     "name": "stderr",
     "output_type": "stream",
     "text": [
      "100%|██████████| 114/114 [00:00<00:00, 395.93it/s]\n",
      " 36%|███▌      | 41/114 [00:00<00:00, 408.16it/s]"
     ]
    },
    {
     "name": "stdout",
     "output_type": "stream",
     "text": [
      "epoch: 3, loss: 3.595419913334275\n"
     ]
    },
    {
     "name": "stderr",
     "output_type": "stream",
     "text": [
      "100%|██████████| 114/114 [00:00<00:00, 404.05it/s]\n",
      " 36%|███▌      | 41/114 [00:00<00:00, 404.97it/s]"
     ]
    },
    {
     "name": "stdout",
     "output_type": "stream",
     "text": [
      "epoch: 4, loss: 3.420881489602645\n"
     ]
    },
    {
     "name": "stderr",
     "output_type": "stream",
     "text": [
      "100%|██████████| 114/114 [00:00<00:00, 405.54it/s]\n",
      " 36%|███▌      | 41/114 [00:00<00:00, 407.42it/s]"
     ]
    },
    {
     "name": "stdout",
     "output_type": "stream",
     "text": [
      "epoch: 5, loss: 3.26740734923995\n"
     ]
    },
    {
     "name": "stderr",
     "output_type": "stream",
     "text": [
      "100%|██████████| 114/114 [00:00<00:00, 398.67it/s]\n",
      " 33%|███▎      | 38/114 [00:00<00:00, 372.65it/s]"
     ]
    },
    {
     "name": "stdout",
     "output_type": "stream",
     "text": [
      "epoch: 6, loss: 3.1304025680903607\n"
     ]
    },
    {
     "name": "stderr",
     "output_type": "stream",
     "text": [
      "100%|██████████| 114/114 [00:00<00:00, 383.24it/s]\n",
      " 36%|███▌      | 41/114 [00:00<00:00, 408.13it/s]"
     ]
    },
    {
     "name": "stdout",
     "output_type": "stream",
     "text": [
      "epoch: 7, loss: 3.0030337451250086\n"
     ]
    },
    {
     "name": "stderr",
     "output_type": "stream",
     "text": [
      "100%|██████████| 114/114 [00:00<00:00, 401.69it/s]\n",
      " 36%|███▌      | 41/114 [00:00<00:00, 407.90it/s]"
     ]
    },
    {
     "name": "stdout",
     "output_type": "stream",
     "text": [
      "epoch: 8, loss: 2.885787609011055\n"
     ]
    },
    {
     "name": "stderr",
     "output_type": "stream",
     "text": [
      "100%|██████████| 114/114 [00:00<00:00, 405.43it/s]\n",
      " 34%|███▍      | 39/114 [00:00<00:00, 388.02it/s]"
     ]
    },
    {
     "name": "stdout",
     "output_type": "stream",
     "text": [
      "epoch: 9, loss: 2.7786259388464565\n"
     ]
    },
    {
     "name": "stderr",
     "output_type": "stream",
     "text": [
      "100%|██████████| 114/114 [00:00<00:00, 395.04it/s]\n",
      " 36%|███▌      | 41/114 [00:00<00:00, 405.12it/s]"
     ]
    },
    {
     "name": "stdout",
     "output_type": "stream",
     "text": [
      "epoch: 10, loss: 2.676075854675452\n"
     ]
    },
    {
     "name": "stderr",
     "output_type": "stream",
     "text": [
      "100%|██████████| 114/114 [00:00<00:00, 382.06it/s]\n",
      " 36%|███▌      | 41/114 [00:00<00:00, 402.32it/s]"
     ]
    },
    {
     "name": "stdout",
     "output_type": "stream",
     "text": [
      "epoch: 11, loss: 2.579493502367254\n"
     ]
    },
    {
     "name": "stderr",
     "output_type": "stream",
     "text": [
      "100%|██████████| 114/114 [00:00<00:00, 403.03it/s]\n",
      " 35%|███▌      | 40/114 [00:00<00:00, 399.75it/s]"
     ]
    },
    {
     "name": "stdout",
     "output_type": "stream",
     "text": [
      "epoch: 12, loss: 2.4888816453879117\n"
     ]
    },
    {
     "name": "stderr",
     "output_type": "stream",
     "text": [
      "100%|██████████| 114/114 [00:00<00:00, 400.89it/s]\n",
      " 35%|███▌      | 40/114 [00:00<00:00, 394.14it/s]"
     ]
    },
    {
     "name": "stdout",
     "output_type": "stream",
     "text": [
      "epoch: 13, loss: 2.4004221909677965\n"
     ]
    },
    {
     "name": "stderr",
     "output_type": "stream",
     "text": [
      "100%|██████████| 114/114 [00:00<00:00, 396.25it/s]\n",
      " 36%|███▌      | 41/114 [00:00<00:00, 401.12it/s]"
     ]
    },
    {
     "name": "stdout",
     "output_type": "stream",
     "text": [
      "epoch: 14, loss: 2.3187749439543826\n"
     ]
    },
    {
     "name": "stderr",
     "output_type": "stream",
     "text": [
      "100%|██████████| 114/114 [00:00<00:00, 403.89it/s]\n",
      " 36%|███▌      | 41/114 [00:00<00:00, 406.78it/s]"
     ]
    },
    {
     "name": "stdout",
     "output_type": "stream",
     "text": [
      "epoch: 15, loss: 2.2369396727206086\n"
     ]
    },
    {
     "name": "stderr",
     "output_type": "stream",
     "text": [
      "100%|██████████| 114/114 [00:00<00:00, 402.56it/s]\n",
      " 37%|███▋      | 42/114 [00:00<00:00, 410.16it/s]"
     ]
    },
    {
     "name": "stdout",
     "output_type": "stream",
     "text": [
      "epoch: 16, loss: 2.1622982975420806\n"
     ]
    },
    {
     "name": "stderr",
     "output_type": "stream",
     "text": [
      "100%|██████████| 114/114 [00:00<00:00, 400.36it/s]\n",
      " 35%|███▌      | 40/114 [00:00<00:00, 394.38it/s]"
     ]
    },
    {
     "name": "stdout",
     "output_type": "stream",
     "text": [
      "epoch: 17, loss: 2.0862851915684386\n"
     ]
    },
    {
     "name": "stderr",
     "output_type": "stream",
     "text": [
      "100%|██████████| 114/114 [00:00<00:00, 402.43it/s]\n",
      " 36%|███▌      | 41/114 [00:00<00:00, 401.65it/s]"
     ]
    },
    {
     "name": "stdout",
     "output_type": "stream",
     "text": [
      "epoch: 18, loss: 2.0165004193534375\n"
     ]
    },
    {
     "name": "stderr",
     "output_type": "stream",
     "text": [
      "100%|██████████| 114/114 [00:00<00:00, 391.88it/s]\n",
      " 36%|███▌      | 41/114 [00:00<00:00, 404.82it/s]"
     ]
    },
    {
     "name": "stdout",
     "output_type": "stream",
     "text": [
      "epoch: 19, loss: 1.9491170697854276\n"
     ]
    },
    {
     "name": "stderr",
     "output_type": "stream",
     "text": [
      "100%|██████████| 114/114 [00:00<00:00, 405.50it/s]\n",
      " 35%|███▌      | 40/114 [00:00<00:00, 399.08it/s]"
     ]
    },
    {
     "name": "stdout",
     "output_type": "stream",
     "text": [
      "epoch: 20, loss: 1.8814393453209404\n"
     ]
    },
    {
     "name": "stderr",
     "output_type": "stream",
     "text": [
      "100%|██████████| 114/114 [00:00<00:00, 397.06it/s]\n",
      " 36%|███▌      | 41/114 [00:00<00:00, 400.12it/s]"
     ]
    },
    {
     "name": "stdout",
     "output_type": "stream",
     "text": [
      "epoch: 21, loss: 1.8237640772327062\n"
     ]
    },
    {
     "name": "stderr",
     "output_type": "stream",
     "text": [
      "100%|██████████| 114/114 [00:00<00:00, 397.41it/s]\n",
      " 35%|███▌      | 40/114 [00:00<00:00, 399.72it/s]"
     ]
    },
    {
     "name": "stdout",
     "output_type": "stream",
     "text": [
      "epoch: 22, loss: 1.764983522223086\n"
     ]
    },
    {
     "name": "stderr",
     "output_type": "stream",
     "text": [
      "100%|██████████| 114/114 [00:00<00:00, 402.06it/s]\n",
      " 36%|███▌      | 41/114 [00:00<00:00, 403.94it/s]"
     ]
    },
    {
     "name": "stdout",
     "output_type": "stream",
     "text": [
      "epoch: 23, loss: 1.7066384937928205\n"
     ]
    },
    {
     "name": "stderr",
     "output_type": "stream",
     "text": [
      "100%|██████████| 114/114 [00:00<00:00, 402.61it/s]\n",
      " 35%|███▌      | 40/114 [00:00<00:00, 392.18it/s]"
     ]
    },
    {
     "name": "stdout",
     "output_type": "stream",
     "text": [
      "epoch: 24, loss: 1.6509211499266174\n"
     ]
    },
    {
     "name": "stderr",
     "output_type": "stream",
     "text": [
      "100%|██████████| 114/114 [00:00<00:00, 398.44it/s]\n",
      " 35%|███▌      | 40/114 [00:00<00:00, 398.41it/s]"
     ]
    },
    {
     "name": "stdout",
     "output_type": "stream",
     "text": [
      "epoch: 25, loss: 1.6021339170759732\n"
     ]
    },
    {
     "name": "stderr",
     "output_type": "stream",
     "text": [
      "100%|██████████| 114/114 [00:00<00:00, 399.27it/s]\n",
      " 33%|███▎      | 38/114 [00:00<00:00, 372.86it/s]"
     ]
    },
    {
     "name": "stdout",
     "output_type": "stream",
     "text": [
      "epoch: 26, loss: 1.5530603676813666\n"
     ]
    },
    {
     "name": "stderr",
     "output_type": "stream",
     "text": [
      "100%|██████████| 114/114 [00:00<00:00, 385.72it/s]\n",
      " 36%|███▌      | 41/114 [00:00<00:00, 402.92it/s]"
     ]
    },
    {
     "name": "stdout",
     "output_type": "stream",
     "text": [
      "epoch: 27, loss: 1.5031314147113706\n"
     ]
    },
    {
     "name": "stderr",
     "output_type": "stream",
     "text": [
      "100%|██████████| 114/114 [00:00<00:00, 396.01it/s]\n",
      " 35%|███▌      | 40/114 [00:00<00:00, 391.24it/s]"
     ]
    },
    {
     "name": "stdout",
     "output_type": "stream",
     "text": [
      "epoch: 28, loss: 1.4564759402667482\n"
     ]
    },
    {
     "name": "stderr",
     "output_type": "stream",
     "text": [
      "100%|██████████| 114/114 [00:00<00:00, 393.91it/s]\n",
      " 35%|███▌      | 40/114 [00:00<00:00, 399.44it/s]"
     ]
    },
    {
     "name": "stdout",
     "output_type": "stream",
     "text": [
      "epoch: 29, loss: 1.4163498937937875\n"
     ]
    },
    {
     "name": "stderr",
     "output_type": "stream",
     "text": [
      "100%|██████████| 114/114 [00:00<00:00, 398.48it/s]\n",
      " 35%|███▌      | 40/114 [00:00<00:00, 399.01it/s]"
     ]
    },
    {
     "name": "stdout",
     "output_type": "stream",
     "text": [
      "epoch: 30, loss: 1.3735962229794039\n"
     ]
    },
    {
     "name": "stderr",
     "output_type": "stream",
     "text": [
      "100%|██████████| 114/114 [00:00<00:00, 395.80it/s]\n",
      " 36%|███▌      | 41/114 [00:00<00:00, 402.05it/s]"
     ]
    },
    {
     "name": "stdout",
     "output_type": "stream",
     "text": [
      "epoch: 31, loss: 1.3377111350700384\n"
     ]
    },
    {
     "name": "stderr",
     "output_type": "stream",
     "text": [
      "100%|██████████| 114/114 [00:00<00:00, 390.79it/s]\n",
      " 37%|███▋      | 42/114 [00:00<00:00, 411.00it/s]"
     ]
    },
    {
     "name": "stdout",
     "output_type": "stream",
     "text": [
      "epoch: 32, loss: 1.296961115212319\n"
     ]
    },
    {
     "name": "stderr",
     "output_type": "stream",
     "text": [
      "100%|██████████| 114/114 [00:00<00:00, 360.18it/s]\n",
      " 36%|███▌      | 41/114 [00:00<00:00, 402.28it/s]"
     ]
    },
    {
     "name": "stdout",
     "output_type": "stream",
     "text": [
      "epoch: 33, loss: 1.2617170135750928\n"
     ]
    },
    {
     "name": "stderr",
     "output_type": "stream",
     "text": [
      "100%|██████████| 114/114 [00:00<00:00, 389.09it/s]\n",
      " 35%|███▌      | 40/114 [00:00<00:00, 398.75it/s]"
     ]
    },
    {
     "name": "stdout",
     "output_type": "stream",
     "text": [
      "epoch: 34, loss: 1.223242855791441\n"
     ]
    },
    {
     "name": "stderr",
     "output_type": "stream",
     "text": [
      "100%|██████████| 114/114 [00:00<00:00, 386.65it/s]\n",
      " 34%|███▍      | 39/114 [00:00<00:00, 389.04it/s]"
     ]
    },
    {
     "name": "stdout",
     "output_type": "stream",
     "text": [
      "epoch: 35, loss: 1.1969334763009887\n"
     ]
    },
    {
     "name": "stderr",
     "output_type": "stream",
     "text": [
      "100%|██████████| 114/114 [00:00<00:00, 384.59it/s]\n",
      " 35%|███▌      | 40/114 [00:00<00:00, 399.53it/s]"
     ]
    },
    {
     "name": "stdout",
     "output_type": "stream",
     "text": [
      "epoch: 36, loss: 1.1614529800392044\n"
     ]
    },
    {
     "name": "stderr",
     "output_type": "stream",
     "text": [
      "100%|██████████| 114/114 [00:00<00:00, 390.74it/s]\n",
      " 35%|███▌      | 40/114 [00:00<00:00, 399.04it/s]"
     ]
    },
    {
     "name": "stdout",
     "output_type": "stream",
     "text": [
      "epoch: 37, loss: 1.1363795178563418\n"
     ]
    },
    {
     "name": "stderr",
     "output_type": "stream",
     "text": [
      "100%|██████████| 114/114 [00:00<00:00, 371.44it/s]\n",
      " 27%|██▋       | 31/114 [00:00<00:00, 309.17it/s]"
     ]
    },
    {
     "name": "stdout",
     "output_type": "stream",
     "text": [
      "epoch: 38, loss: 1.104283966439471\n"
     ]
    },
    {
     "name": "stderr",
     "output_type": "stream",
     "text": [
      "100%|██████████| 114/114 [00:00<00:00, 352.75it/s]\n",
      " 35%|███▌      | 40/114 [00:00<00:00, 399.57it/s]"
     ]
    },
    {
     "name": "stdout",
     "output_type": "stream",
     "text": [
      "epoch: 39, loss: 1.0760371574281822\n"
     ]
    },
    {
     "name": "stderr",
     "output_type": "stream",
     "text": [
      "100%|██████████| 114/114 [00:00<00:00, 391.56it/s]\n",
      " 33%|███▎      | 38/114 [00:00<00:00, 374.59it/s]"
     ]
    },
    {
     "name": "stdout",
     "output_type": "stream",
     "text": [
      "epoch: 40, loss: 1.0506739661357762\n"
     ]
    },
    {
     "name": "stderr",
     "output_type": "stream",
     "text": [
      "100%|██████████| 114/114 [00:00<00:00, 374.07it/s]\n",
      " 36%|███▌      | 41/114 [00:00<00:00, 408.37it/s]"
     ]
    },
    {
     "name": "stdout",
     "output_type": "stream",
     "text": [
      "epoch: 41, loss: 1.0220311430638758\n"
     ]
    },
    {
     "name": "stderr",
     "output_type": "stream",
     "text": [
      "100%|██████████| 114/114 [00:00<00:00, 394.86it/s]\n",
      " 35%|███▌      | 40/114 [00:00<00:00, 395.20it/s]"
     ]
    },
    {
     "name": "stdout",
     "output_type": "stream",
     "text": [
      "epoch: 42, loss: 0.9965362751575487\n"
     ]
    },
    {
     "name": "stderr",
     "output_type": "stream",
     "text": [
      "100%|██████████| 114/114 [00:00<00:00, 393.57it/s]\n",
      " 36%|███▌      | 41/114 [00:00<00:00, 404.24it/s]"
     ]
    },
    {
     "name": "stdout",
     "output_type": "stream",
     "text": [
      "epoch: 43, loss: 0.9698903217271655\n"
     ]
    },
    {
     "name": "stderr",
     "output_type": "stream",
     "text": [
      "100%|██████████| 114/114 [00:00<00:00, 389.23it/s]\n",
      " 36%|███▌      | 41/114 [00:00<00:00, 407.83it/s]"
     ]
    },
    {
     "name": "stdout",
     "output_type": "stream",
     "text": [
      "epoch: 44, loss: 0.9501978450434786\n"
     ]
    },
    {
     "name": "stderr",
     "output_type": "stream",
     "text": [
      "100%|██████████| 114/114 [00:00<00:00, 397.68it/s]\n",
      " 36%|███▌      | 41/114 [00:00<00:00, 405.00it/s]"
     ]
    },
    {
     "name": "stdout",
     "output_type": "stream",
     "text": [
      "epoch: 45, loss: 0.9245525796448489\n"
     ]
    },
    {
     "name": "stderr",
     "output_type": "stream",
     "text": [
      "100%|██████████| 114/114 [00:00<00:00, 389.95it/s]\n",
      " 35%|███▌      | 40/114 [00:00<00:00, 398.02it/s]"
     ]
    },
    {
     "name": "stdout",
     "output_type": "stream",
     "text": [
      "epoch: 46, loss: 0.8996769480394663\n"
     ]
    },
    {
     "name": "stderr",
     "output_type": "stream",
     "text": [
      "100%|██████████| 114/114 [00:00<00:00, 393.48it/s]\n",
      " 31%|███       | 35/114 [00:00<00:00, 342.71it/s]"
     ]
    },
    {
     "name": "stdout",
     "output_type": "stream",
     "text": [
      "epoch: 47, loss: 0.8838046036940668\n"
     ]
    },
    {
     "name": "stderr",
     "output_type": "stream",
     "text": [
      "100%|██████████| 114/114 [00:00<00:00, 376.09it/s]\n",
      " 35%|███▌      | 40/114 [00:00<00:00, 399.18it/s]"
     ]
    },
    {
     "name": "stdout",
     "output_type": "stream",
     "text": [
      "epoch: 48, loss: 0.8614261997484782\n"
     ]
    },
    {
     "name": "stderr",
     "output_type": "stream",
     "text": [
      "100%|██████████| 114/114 [00:00<00:00, 389.68it/s]\n",
      " 35%|███▌      | 40/114 [00:00<00:00, 393.40it/s]"
     ]
    },
    {
     "name": "stdout",
     "output_type": "stream",
     "text": [
      "epoch: 49, loss: 0.8446740892426934\n"
     ]
    },
    {
     "name": "stderr",
     "output_type": "stream",
     "text": [
      "100%|██████████| 114/114 [00:00<00:00, 388.24it/s]\n",
      " 35%|███▌      | 40/114 [00:00<00:00, 397.86it/s]"
     ]
    },
    {
     "name": "stdout",
     "output_type": "stream",
     "text": [
      "epoch: 50, loss: 0.8227870030661175\n"
     ]
    },
    {
     "name": "stderr",
     "output_type": "stream",
     "text": [
      "100%|██████████| 114/114 [00:00<00:00, 388.61it/s]\n",
      " 36%|███▌      | 41/114 [00:00<00:00, 409.49it/s]"
     ]
    },
    {
     "name": "stdout",
     "output_type": "stream",
     "text": [
      "epoch: 51, loss: 0.8062937216270738\n"
     ]
    },
    {
     "name": "stderr",
     "output_type": "stream",
     "text": [
      "100%|██████████| 114/114 [00:00<00:00, 395.14it/s]\n",
      " 36%|███▌      | 41/114 [00:00<00:00, 399.97it/s]"
     ]
    },
    {
     "name": "stdout",
     "output_type": "stream",
     "text": [
      "epoch: 52, loss: 0.7854082065429981\n"
     ]
    },
    {
     "name": "stderr",
     "output_type": "stream",
     "text": [
      "100%|██████████| 114/114 [00:00<00:00, 391.37it/s]\n",
      " 34%|███▍      | 39/114 [00:00<00:00, 389.38it/s]"
     ]
    },
    {
     "name": "stdout",
     "output_type": "stream",
     "text": [
      "epoch: 53, loss: 0.7674620170039079\n"
     ]
    },
    {
     "name": "stderr",
     "output_type": "stream",
     "text": [
      "100%|██████████| 114/114 [00:00<00:00, 392.66it/s]\n",
      " 36%|███▌      | 41/114 [00:00<00:00, 404.48it/s]"
     ]
    },
    {
     "name": "stdout",
     "output_type": "stream",
     "text": [
      "epoch: 54, loss: 0.7525552575355237\n"
     ]
    },
    {
     "name": "stderr",
     "output_type": "stream",
     "text": [
      "100%|██████████| 114/114 [00:00<00:00, 395.05it/s]\n",
      " 36%|███▌      | 41/114 [00:00<00:00, 402.15it/s]"
     ]
    },
    {
     "name": "stdout",
     "output_type": "stream",
     "text": [
      "epoch: 55, loss: 0.7362828363351762\n"
     ]
    },
    {
     "name": "stderr",
     "output_type": "stream",
     "text": [
      "100%|██████████| 114/114 [00:00<00:00, 393.49it/s]\n",
      " 36%|███▌      | 41/114 [00:00<00:00, 402.32it/s]"
     ]
    },
    {
     "name": "stdout",
     "output_type": "stream",
     "text": [
      "epoch: 56, loss: 0.7230854772916979\n"
     ]
    },
    {
     "name": "stderr",
     "output_type": "stream",
     "text": [
      "100%|██████████| 114/114 [00:00<00:00, 387.53it/s]\n",
      " 35%|███▌      | 40/114 [00:00<00:00, 398.96it/s]"
     ]
    },
    {
     "name": "stdout",
     "output_type": "stream",
     "text": [
      "epoch: 57, loss: 0.7060646013943205\n"
     ]
    },
    {
     "name": "stderr",
     "output_type": "stream",
     "text": [
      "100%|██████████| 114/114 [00:00<00:00, 356.46it/s]\n",
      " 36%|███▌      | 41/114 [00:00<00:00, 401.78it/s]"
     ]
    },
    {
     "name": "stdout",
     "output_type": "stream",
     "text": [
      "epoch: 58, loss: 0.6887535703325529\n"
     ]
    },
    {
     "name": "stderr",
     "output_type": "stream",
     "text": [
      "100%|██████████| 114/114 [00:00<00:00, 359.42it/s]\n",
      " 36%|███▌      | 41/114 [00:00<00:00, 403.16it/s]"
     ]
    },
    {
     "name": "stdout",
     "output_type": "stream",
     "text": [
      "epoch: 59, loss: 0.6772300252731781\n"
     ]
    },
    {
     "name": "stderr",
     "output_type": "stream",
     "text": [
      "100%|██████████| 114/114 [00:00<00:00, 389.51it/s]\n",
      " 28%|██▊       | 32/114 [00:00<00:00, 319.35it/s]"
     ]
    },
    {
     "name": "stdout",
     "output_type": "stream",
     "text": [
      "epoch: 60, loss: 0.6633447496427259\n"
     ]
    },
    {
     "name": "stderr",
     "output_type": "stream",
     "text": [
      "100%|██████████| 114/114 [00:00<00:00, 328.35it/s]\n",
      " 32%|███▏      | 37/114 [00:00<00:00, 367.70it/s]"
     ]
    },
    {
     "name": "stdout",
     "output_type": "stream",
     "text": [
      "epoch: 61, loss: 0.64884153403998\n"
     ]
    },
    {
     "name": "stderr",
     "output_type": "stream",
     "text": [
      "100%|██████████| 114/114 [00:00<00:00, 364.62it/s]\n",
      " 32%|███▏      | 37/114 [00:00<00:00, 366.77it/s]"
     ]
    },
    {
     "name": "stdout",
     "output_type": "stream",
     "text": [
      "epoch: 62, loss: 0.6323014854181688\n"
     ]
    },
    {
     "name": "stderr",
     "output_type": "stream",
     "text": [
      "100%|██████████| 114/114 [00:00<00:00, 364.53it/s]\n",
      " 32%|███▏      | 36/114 [00:00<00:00, 358.15it/s]"
     ]
    },
    {
     "name": "stdout",
     "output_type": "stream",
     "text": [
      "epoch: 63, loss: 0.6195278958121085\n"
     ]
    },
    {
     "name": "stderr",
     "output_type": "stream",
     "text": [
      "100%|██████████| 114/114 [00:00<00:00, 356.36it/s]\n",
      " 33%|███▎      | 38/114 [00:00<00:00, 372.16it/s]"
     ]
    },
    {
     "name": "stdout",
     "output_type": "stream",
     "text": [
      "epoch: 64, loss: 0.6103760754013771\n"
     ]
    },
    {
     "name": "stderr",
     "output_type": "stream",
     "text": [
      "100%|██████████| 114/114 [00:00<00:00, 367.62it/s]\n",
      " 32%|███▏      | 37/114 [00:00<00:00, 366.70it/s]"
     ]
    },
    {
     "name": "stdout",
     "output_type": "stream",
     "text": [
      "epoch: 65, loss: 0.592734210363311\n"
     ]
    },
    {
     "name": "stderr",
     "output_type": "stream",
     "text": [
      "100%|██████████| 114/114 [00:00<00:00, 364.77it/s]\n",
      " 33%|███▎      | 38/114 [00:00<00:00, 370.41it/s]"
     ]
    },
    {
     "name": "stdout",
     "output_type": "stream",
     "text": [
      "epoch: 66, loss: 0.5846668904034049\n"
     ]
    },
    {
     "name": "stderr",
     "output_type": "stream",
     "text": [
      "100%|██████████| 114/114 [00:00<00:00, 342.27it/s]\n",
      " 32%|███▏      | 37/114 [00:00<00:00, 362.49it/s]"
     ]
    },
    {
     "name": "stdout",
     "output_type": "stream",
     "text": [
      "epoch: 67, loss: 0.5696833448936295\n"
     ]
    },
    {
     "name": "stderr",
     "output_type": "stream",
     "text": [
      "100%|██████████| 114/114 [00:00<00:00, 361.52it/s]\n",
      " 32%|███▏      | 37/114 [00:00<00:00, 367.44it/s]"
     ]
    },
    {
     "name": "stdout",
     "output_type": "stream",
     "text": [
      "epoch: 68, loss: 0.5600081634900904\n"
     ]
    },
    {
     "name": "stderr",
     "output_type": "stream",
     "text": [
      "100%|██████████| 114/114 [00:00<00:00, 366.59it/s]\n",
      " 33%|███▎      | 38/114 [00:00<00:00, 371.40it/s]"
     ]
    },
    {
     "name": "stdout",
     "output_type": "stream",
     "text": [
      "epoch: 69, loss: 0.5489050003960033\n"
     ]
    },
    {
     "name": "stderr",
     "output_type": "stream",
     "text": [
      "100%|██████████| 114/114 [00:00<00:00, 321.45it/s]\n",
      " 32%|███▏      | 37/114 [00:00<00:00, 362.93it/s]"
     ]
    },
    {
     "name": "stdout",
     "output_type": "stream",
     "text": [
      "epoch: 70, loss: 0.5383706786055935\n"
     ]
    },
    {
     "name": "stderr",
     "output_type": "stream",
     "text": [
      "100%|██████████| 114/114 [00:00<00:00, 362.90it/s]\n",
      " 33%|███▎      | 38/114 [00:00<00:00, 374.52it/s]"
     ]
    },
    {
     "name": "stdout",
     "output_type": "stream",
     "text": [
      "epoch: 71, loss: 0.5270210590301694\n"
     ]
    },
    {
     "name": "stderr",
     "output_type": "stream",
     "text": [
      "100%|██████████| 114/114 [00:00<00:00, 366.35it/s]\n",
      " 33%|███▎      | 38/114 [00:00<00:00, 376.16it/s]"
     ]
    },
    {
     "name": "stdout",
     "output_type": "stream",
     "text": [
      "epoch: 72, loss: 0.5175807101366576\n"
     ]
    },
    {
     "name": "stderr",
     "output_type": "stream",
     "text": [
      "100%|██████████| 114/114 [00:00<00:00, 369.32it/s]\n",
      " 32%|███▏      | 36/114 [00:00<00:00, 356.47it/s]"
     ]
    },
    {
     "name": "stdout",
     "output_type": "stream",
     "text": [
      "epoch: 73, loss: 0.5060111530642789\n"
     ]
    },
    {
     "name": "stderr",
     "output_type": "stream",
     "text": [
      "100%|██████████| 114/114 [00:00<00:00, 352.33it/s]\n",
      " 29%|██▉       | 33/114 [00:00<00:00, 320.15it/s]"
     ]
    },
    {
     "name": "stdout",
     "output_type": "stream",
     "text": [
      "epoch: 74, loss: 0.49440483645075367\n"
     ]
    },
    {
     "name": "stderr",
     "output_type": "stream",
     "text": [
      "100%|██████████| 114/114 [00:00<00:00, 343.62it/s]\n",
      " 32%|███▏      | 36/114 [00:00<00:00, 357.75it/s]"
     ]
    },
    {
     "name": "stdout",
     "output_type": "stream",
     "text": [
      "epoch: 75, loss: 0.4865475107572216\n"
     ]
    },
    {
     "name": "stderr",
     "output_type": "stream",
     "text": [
      "100%|██████████| 114/114 [00:00<00:00, 359.24it/s]\n",
      " 32%|███▏      | 37/114 [00:00<00:00, 369.88it/s]"
     ]
    },
    {
     "name": "stdout",
     "output_type": "stream",
     "text": [
      "epoch: 76, loss: 0.4790313203378089\n"
     ]
    },
    {
     "name": "stderr",
     "output_type": "stream",
     "text": [
      "100%|██████████| 114/114 [00:00<00:00, 353.76it/s]\n",
      " 32%|███▏      | 37/114 [00:00<00:00, 368.23it/s]"
     ]
    },
    {
     "name": "stdout",
     "output_type": "stream",
     "text": [
      "epoch: 77, loss: 0.46879508585997376\n"
     ]
    },
    {
     "name": "stderr",
     "output_type": "stream",
     "text": [
      "100%|██████████| 114/114 [00:00<00:00, 366.85it/s]\n",
      " 32%|███▏      | 37/114 [00:00<00:00, 369.58it/s]"
     ]
    },
    {
     "name": "stdout",
     "output_type": "stream",
     "text": [
      "epoch: 78, loss: 0.45765439053349827\n"
     ]
    },
    {
     "name": "stderr",
     "output_type": "stream",
     "text": [
      "100%|██████████| 114/114 [00:00<00:00, 363.29it/s]\n",
      " 33%|███▎      | 38/114 [00:00<00:00, 376.43it/s]"
     ]
    },
    {
     "name": "stdout",
     "output_type": "stream",
     "text": [
      "epoch: 79, loss: 0.45165459913882405\n"
     ]
    },
    {
     "name": "stderr",
     "output_type": "stream",
     "text": [
      "100%|██████████| 114/114 [00:00<00:00, 360.50it/s]\n",
      " 32%|███▏      | 36/114 [00:00<00:00, 352.59it/s]"
     ]
    },
    {
     "name": "stdout",
     "output_type": "stream",
     "text": [
      "epoch: 80, loss: 0.44174769091551114\n"
     ]
    },
    {
     "name": "stderr",
     "output_type": "stream",
     "text": [
      "100%|██████████| 114/114 [00:00<00:00, 337.04it/s]\n",
      " 33%|███▎      | 38/114 [00:00<00:00, 369.95it/s]"
     ]
    },
    {
     "name": "stdout",
     "output_type": "stream",
     "text": [
      "epoch: 81, loss: 0.4327101595151856\n"
     ]
    },
    {
     "name": "stderr",
     "output_type": "stream",
     "text": [
      "100%|██████████| 114/114 [00:00<00:00, 362.26it/s]\n",
      " 33%|███▎      | 38/114 [00:00<00:00, 372.27it/s]"
     ]
    },
    {
     "name": "stdout",
     "output_type": "stream",
     "text": [
      "epoch: 82, loss: 0.4228615710429486\n"
     ]
    },
    {
     "name": "stderr",
     "output_type": "stream",
     "text": [
      "100%|██████████| 114/114 [00:00<00:00, 339.85it/s]\n",
      " 32%|███▏      | 36/114 [00:00<00:00, 357.71it/s]"
     ]
    },
    {
     "name": "stdout",
     "output_type": "stream",
     "text": [
      "epoch: 83, loss: 0.416811615847674\n"
     ]
    },
    {
     "name": "stderr",
     "output_type": "stream",
     "text": [
      "100%|██████████| 114/114 [00:00<00:00, 357.45it/s]\n",
      " 33%|███▎      | 38/114 [00:00<00:00, 372.33it/s]"
     ]
    },
    {
     "name": "stdout",
     "output_type": "stream",
     "text": [
      "epoch: 84, loss: 0.40775731208198696\n"
     ]
    },
    {
     "name": "stderr",
     "output_type": "stream",
     "text": [
      "100%|██████████| 114/114 [00:00<00:00, 366.31it/s]\n",
      " 32%|███▏      | 37/114 [00:00<00:00, 365.18it/s]"
     ]
    },
    {
     "name": "stdout",
     "output_type": "stream",
     "text": [
      "epoch: 85, loss: 0.400695760297478\n"
     ]
    },
    {
     "name": "stderr",
     "output_type": "stream",
     "text": [
      "100%|██████████| 114/114 [00:00<00:00, 361.95it/s]\n",
      " 26%|██▋       | 30/114 [00:00<00:00, 296.17it/s]"
     ]
    },
    {
     "name": "stdout",
     "output_type": "stream",
     "text": [
      "epoch: 86, loss: 0.39606104133698333\n"
     ]
    },
    {
     "name": "stderr",
     "output_type": "stream",
     "text": [
      "100%|██████████| 114/114 [00:00<00:00, 334.50it/s]\n",
      " 33%|███▎      | 38/114 [00:00<00:00, 370.58it/s]"
     ]
    },
    {
     "name": "stdout",
     "output_type": "stream",
     "text": [
      "epoch: 87, loss: 0.3881157607518696\n"
     ]
    },
    {
     "name": "stderr",
     "output_type": "stream",
     "text": [
      "100%|██████████| 114/114 [00:00<00:00, 366.29it/s]\n",
      " 32%|███▏      | 37/114 [00:00<00:00, 365.96it/s]"
     ]
    },
    {
     "name": "stdout",
     "output_type": "stream",
     "text": [
      "epoch: 88, loss: 0.3800561007505312\n"
     ]
    },
    {
     "name": "stderr",
     "output_type": "stream",
     "text": [
      "100%|██████████| 114/114 [00:00<00:00, 365.12it/s]\n",
      " 33%|███▎      | 38/114 [00:00<00:00, 371.50it/s]"
     ]
    },
    {
     "name": "stdout",
     "output_type": "stream",
     "text": [
      "epoch: 89, loss: 0.37390766323530517\n"
     ]
    },
    {
     "name": "stderr",
     "output_type": "stream",
     "text": [
      "100%|██████████| 114/114 [00:00<00:00, 392.41it/s]\n",
      " 32%|███▏      | 36/114 [00:00<00:00, 353.82it/s]"
     ]
    },
    {
     "name": "stdout",
     "output_type": "stream",
     "text": [
      "epoch: 90, loss: 0.3660736814901448\n"
     ]
    },
    {
     "name": "stderr",
     "output_type": "stream",
     "text": [
      "100%|██████████| 114/114 [00:00<00:00, 337.85it/s]\n",
      " 32%|███▏      | 37/114 [00:00<00:00, 361.80it/s]"
     ]
    },
    {
     "name": "stdout",
     "output_type": "stream",
     "text": [
      "epoch: 91, loss: 0.35959374110581505\n"
     ]
    },
    {
     "name": "stderr",
     "output_type": "stream",
     "text": [
      "100%|██████████| 114/114 [00:00<00:00, 337.88it/s]\n",
      " 32%|███▏      | 36/114 [00:00<00:00, 358.66it/s]"
     ]
    },
    {
     "name": "stdout",
     "output_type": "stream",
     "text": [
      "epoch: 92, loss: 0.35294812181351465\n"
     ]
    },
    {
     "name": "stderr",
     "output_type": "stream",
     "text": [
      "100%|██████████| 114/114 [00:00<00:00, 362.43it/s]\n",
      " 32%|███▏      | 36/114 [00:00<00:00, 354.89it/s]"
     ]
    },
    {
     "name": "stdout",
     "output_type": "stream",
     "text": [
      "epoch: 93, loss: 0.3485283073124993\n"
     ]
    },
    {
     "name": "stderr",
     "output_type": "stream",
     "text": [
      "100%|██████████| 114/114 [00:00<00:00, 356.77it/s]\n",
      " 33%|███▎      | 38/114 [00:00<00:00, 370.34it/s]"
     ]
    },
    {
     "name": "stdout",
     "output_type": "stream",
     "text": [
      "epoch: 94, loss: 0.3423374393477326\n"
     ]
    },
    {
     "name": "stderr",
     "output_type": "stream",
     "text": [
      "100%|██████████| 114/114 [00:00<00:00, 365.79it/s]\n",
      " 33%|███▎      | 38/114 [00:00<00:00, 374.75it/s]"
     ]
    },
    {
     "name": "stdout",
     "output_type": "stream",
     "text": [
      "epoch: 95, loss: 0.33655368840344163\n"
     ]
    },
    {
     "name": "stderr",
     "output_type": "stream",
     "text": [
      "100%|██████████| 114/114 [00:00<00:00, 369.94it/s]\n",
      " 32%|███▏      | 37/114 [00:00<00:00, 367.52it/s]"
     ]
    },
    {
     "name": "stdout",
     "output_type": "stream",
     "text": [
      "epoch: 96, loss: 0.32558059385438703\n"
     ]
    },
    {
     "name": "stderr",
     "output_type": "stream",
     "text": [
      "100%|██████████| 114/114 [00:00<00:00, 354.03it/s]\n",
      " 33%|███▎      | 38/114 [00:00<00:00, 371.29it/s]"
     ]
    },
    {
     "name": "stdout",
     "output_type": "stream",
     "text": [
      "epoch: 97, loss: 0.3194265909784772\n"
     ]
    },
    {
     "name": "stderr",
     "output_type": "stream",
     "text": [
      "100%|██████████| 114/114 [00:00<00:00, 368.12it/s]\n",
      " 33%|███▎      | 38/114 [00:00<00:00, 372.16it/s]"
     ]
    },
    {
     "name": "stdout",
     "output_type": "stream",
     "text": [
      "epoch: 98, loss: 0.31357605352965445\n"
     ]
    },
    {
     "name": "stderr",
     "output_type": "stream",
     "text": [
      "100%|██████████| 114/114 [00:00<00:00, 341.63it/s]"
     ]
    },
    {
     "name": "stdout",
     "output_type": "stream",
     "text": [
      "epoch: 99, loss: 0.31065826108701955\n"
     ]
    },
    {
     "name": "stderr",
     "output_type": "stream",
     "text": [
      "\n"
     ]
    }
   ],
   "source": [
    "for epoch in range(epochs):\n",
    "    total_loss = 0\n",
    "    random.shuffle(datas)\n",
    "    bnum = len(datas)//bz + (1 if len(datas)%bz!=0 else 0)\n",
    "    for bidx in tqdm(range(bnum)):\n",
    "        ctx = []\n",
    "        tar = []\n",
    "        for _ctx, _tar in datas[bidx*bz:(bidx+1)*bz]:\n",
    "            ctx.append(vocab(_ctx))\n",
    "            tar.append(_tar)\n",
    "        \n",
    "        ctx = torch.tensor(ctx, dtype=torch.int64, device=device)\n",
    "        tar = torch.tensor(vocab(tar), dtype=torch.int64, device=device)\n",
    "        \n",
    "        out = model(ctx)\n",
    "        loss = loss_fn(out, tar)\n",
    "        optim.zero_grad()\n",
    "        loss.backward()\n",
    "        optim.step()\n",
    "        \n",
    "        total_loss += loss.item()*len(tar)\n",
    "        \n",
    "    print(\"epoch: {}, loss: {}\".format(epoch, total_loss/len(datas)))\n",
    "    torch.save({\n",
    "        'epoch': epoch,\n",
    "        'net_state_dict': model.state_dict(),\n",
    "        'opt_state_dict': optim.state_dict(),\n",
    "        }, \"./cbow.pt\")"
   ]
  },
  {
   "cell_type": "code",
   "execution_count": 10,
   "id": "a25254da-ac33-419e-a2b5-5e635ffe13bc",
   "metadata": {},
   "outputs": [],
   "source": [
    "import io\n",
    "\n",
    "out_v = io.open('vectors.tsv', 'w', encoding='utf-8')\n",
    "out_m = io.open('metadata.tsv', 'w', encoding='utf-8')\n",
    "\n",
    "emb_book = model.emb_book.weight.detach().cpu().numpy()\n",
    "for idx, w in enumerate(vocab.get_itos()):\n",
    "    emb = emb_book[idx]\n",
    "    out_v.write('\\t'.join([str(x) for x in emb]) + \"\\n\")\n",
    "    out_m.write(w + \"\\n\")\n",
    "out_v.close()\n",
    "out_m.close()"
   ]
  }
 ],
 "metadata": {
  "kernelspec": {
   "display_name": "Python 3",
   "language": "python",
   "name": "python3"
  },
  "language_info": {
   "codemirror_mode": {
    "name": "ipython",
    "version": 3
   },
   "file_extension": ".py",
   "mimetype": "text/x-python",
   "name": "python",
   "nbconvert_exporter": "python",
   "pygments_lexer": "ipython3",
   "version": "3.8.8"
  }
 },
 "nbformat": 4,
 "nbformat_minor": 5
}
