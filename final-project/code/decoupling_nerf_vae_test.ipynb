{
  "nbformat": 4,
  "nbformat_minor": 0,
  "metadata": {
    "colab": {
      "name": "decoupling_nerf-vae-test.ipynb",
      "provenance": [],
      "collapsed_sections": []
    },
    "kernelspec": {
      "display_name": "Python 3",
      "name": "python3"
    },
    "language_info": {
      "name": "python"
    },
    "widgets": {
      "application/vnd.jupyter.widget-state+json": {
        "f50eb1d3f3e64f8a9527cba8126d793b": {
          "model_module": "@jupyter-widgets/controls",
          "model_name": "VBoxModel",
          "state": {
            "_view_name": "VBoxView",
            "_dom_classes": [
              "widget-interact"
            ],
            "_model_name": "VBoxModel",
            "_view_module": "@jupyter-widgets/controls",
            "_model_module_version": "1.5.0",
            "_view_count": null,
            "_view_module_version": "1.5.0",
            "box_style": "",
            "layout": "IPY_MODEL_d6f778a10ef947ee86a03b95bb455356",
            "_model_module": "@jupyter-widgets/controls",
            "children": [
              "IPY_MODEL_12575337a83e4844a0fb0631aed84191",
              "IPY_MODEL_a7962dfe18ab4a68abbb837ce022a54a",
              "IPY_MODEL_e2230e07cc9a4e8c88282249f1a9fa7d",
              "IPY_MODEL_1ebbf4251eb24151ba218d525823b982"
            ]
          }
        },
        "d6f778a10ef947ee86a03b95bb455356": {
          "model_module": "@jupyter-widgets/base",
          "model_name": "LayoutModel",
          "state": {
            "_view_name": "LayoutView",
            "grid_template_rows": null,
            "right": null,
            "justify_content": null,
            "_view_module": "@jupyter-widgets/base",
            "overflow": null,
            "_model_module_version": "1.2.0",
            "_view_count": null,
            "flex_flow": null,
            "width": null,
            "min_width": null,
            "border": null,
            "align_items": null,
            "bottom": null,
            "_model_module": "@jupyter-widgets/base",
            "top": null,
            "grid_column": null,
            "overflow_y": null,
            "overflow_x": null,
            "grid_auto_flow": null,
            "grid_area": null,
            "grid_template_columns": null,
            "flex": null,
            "_model_name": "LayoutModel",
            "justify_items": null,
            "grid_row": null,
            "max_height": null,
            "align_content": null,
            "visibility": null,
            "align_self": null,
            "height": null,
            "min_height": null,
            "padding": null,
            "grid_auto_rows": null,
            "grid_gap": null,
            "max_width": null,
            "order": null,
            "_view_module_version": "1.2.0",
            "grid_template_areas": null,
            "object_position": null,
            "object_fit": null,
            "grid_auto_columns": null,
            "margin": null,
            "display": null,
            "left": null
          }
        },
        "12575337a83e4844a0fb0631aed84191": {
          "model_module": "@jupyter-widgets/controls",
          "model_name": "FloatSliderModel",
          "state": {
            "_view_name": "FloatSliderView",
            "style": "IPY_MODEL_b083873b03824df59ba4f830522c16be",
            "_dom_classes": [],
            "description": "theta",
            "step": 0.01,
            "_model_name": "FloatSliderModel",
            "orientation": "horizontal",
            "max": 360,
            "_view_module": "@jupyter-widgets/controls",
            "_model_module_version": "1.5.0",
            "value": 100,
            "_view_count": null,
            "disabled": false,
            "_view_module_version": "1.5.0",
            "min": 0,
            "continuous_update": true,
            "readout_format": ".2f",
            "description_tooltip": null,
            "readout": true,
            "_model_module": "@jupyter-widgets/controls",
            "layout": "IPY_MODEL_4bc6b17b72f844f4a183a8867ea4762f"
          }
        },
        "a7962dfe18ab4a68abbb837ce022a54a": {
          "model_module": "@jupyter-widgets/controls",
          "model_name": "FloatSliderModel",
          "state": {
            "_view_name": "FloatSliderView",
            "style": "IPY_MODEL_f5d537e6e4e44eb89c954a72a27f5234",
            "_dom_classes": [],
            "description": "phi",
            "step": 0.01,
            "_model_name": "FloatSliderModel",
            "orientation": "horizontal",
            "max": 0,
            "_view_module": "@jupyter-widgets/controls",
            "_model_module_version": "1.5.0",
            "value": -30,
            "_view_count": null,
            "disabled": false,
            "_view_module_version": "1.5.0",
            "min": -90,
            "continuous_update": true,
            "readout_format": ".2f",
            "description_tooltip": null,
            "readout": true,
            "_model_module": "@jupyter-widgets/controls",
            "layout": "IPY_MODEL_c5ad9a292dd64cca9e5995b1b3976c9c"
          }
        },
        "e2230e07cc9a4e8c88282249f1a9fa7d": {
          "model_module": "@jupyter-widgets/controls",
          "model_name": "FloatSliderModel",
          "state": {
            "_view_name": "FloatSliderView",
            "style": "IPY_MODEL_f14a67b8d6aa41d5b50daecb458536ac",
            "_dom_classes": [],
            "description": "radius",
            "step": 0.01,
            "_model_name": "FloatSliderModel",
            "orientation": "horizontal",
            "max": 5,
            "_view_module": "@jupyter-widgets/controls",
            "_model_module_version": "1.5.0",
            "value": 4,
            "_view_count": null,
            "disabled": false,
            "_view_module_version": "1.5.0",
            "min": 3,
            "continuous_update": true,
            "readout_format": ".2f",
            "description_tooltip": null,
            "readout": true,
            "_model_module": "@jupyter-widgets/controls",
            "layout": "IPY_MODEL_7d0f02ef9d7140058cd78d4b5e009dc1"
          }
        },
        "1ebbf4251eb24151ba218d525823b982": {
          "model_module": "@jupyter-widgets/output",
          "model_name": "OutputModel",
          "state": {
            "_view_name": "OutputView",
            "msg_id": "",
            "_dom_classes": [],
            "_model_name": "OutputModel",
            "outputs": [
              {
                "output_type": "display_data",
                "metadata": {
                  "tags": [],
                  "needs_background": "light"
                },
                "image/png": "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\n",
                "text/plain": "<Figure size 1440x432 with 1 Axes>"
              }
            ],
            "_view_module": "@jupyter-widgets/output",
            "_model_module_version": "1.0.0",
            "_view_count": null,
            "_view_module_version": "1.0.0",
            "layout": "IPY_MODEL_391c140cc48b42b8945a2c6bea01c323",
            "_model_module": "@jupyter-widgets/output"
          }
        },
        "b083873b03824df59ba4f830522c16be": {
          "model_module": "@jupyter-widgets/controls",
          "model_name": "SliderStyleModel",
          "state": {
            "_view_name": "StyleView",
            "handle_color": null,
            "_model_name": "SliderStyleModel",
            "description_width": "",
            "_view_module": "@jupyter-widgets/base",
            "_model_module_version": "1.5.0",
            "_view_count": null,
            "_view_module_version": "1.2.0",
            "_model_module": "@jupyter-widgets/controls"
          }
        },
        "4bc6b17b72f844f4a183a8867ea4762f": {
          "model_module": "@jupyter-widgets/base",
          "model_name": "LayoutModel",
          "state": {
            "_view_name": "LayoutView",
            "grid_template_rows": null,
            "right": null,
            "justify_content": null,
            "_view_module": "@jupyter-widgets/base",
            "overflow": null,
            "_model_module_version": "1.2.0",
            "_view_count": null,
            "flex_flow": null,
            "width": null,
            "min_width": null,
            "border": null,
            "align_items": null,
            "bottom": null,
            "_model_module": "@jupyter-widgets/base",
            "top": null,
            "grid_column": null,
            "overflow_y": null,
            "overflow_x": null,
            "grid_auto_flow": null,
            "grid_area": null,
            "grid_template_columns": null,
            "flex": null,
            "_model_name": "LayoutModel",
            "justify_items": null,
            "grid_row": null,
            "max_height": null,
            "align_content": null,
            "visibility": null,
            "align_self": null,
            "height": null,
            "min_height": null,
            "padding": null,
            "grid_auto_rows": null,
            "grid_gap": null,
            "max_width": null,
            "order": null,
            "_view_module_version": "1.2.0",
            "grid_template_areas": null,
            "object_position": null,
            "object_fit": null,
            "grid_auto_columns": null,
            "margin": null,
            "display": null,
            "left": null
          }
        },
        "f5d537e6e4e44eb89c954a72a27f5234": {
          "model_module": "@jupyter-widgets/controls",
          "model_name": "SliderStyleModel",
          "state": {
            "_view_name": "StyleView",
            "handle_color": null,
            "_model_name": "SliderStyleModel",
            "description_width": "",
            "_view_module": "@jupyter-widgets/base",
            "_model_module_version": "1.5.0",
            "_view_count": null,
            "_view_module_version": "1.2.0",
            "_model_module": "@jupyter-widgets/controls"
          }
        },
        "c5ad9a292dd64cca9e5995b1b3976c9c": {
          "model_module": "@jupyter-widgets/base",
          "model_name": "LayoutModel",
          "state": {
            "_view_name": "LayoutView",
            "grid_template_rows": null,
            "right": null,
            "justify_content": null,
            "_view_module": "@jupyter-widgets/base",
            "overflow": null,
            "_model_module_version": "1.2.0",
            "_view_count": null,
            "flex_flow": null,
            "width": null,
            "min_width": null,
            "border": null,
            "align_items": null,
            "bottom": null,
            "_model_module": "@jupyter-widgets/base",
            "top": null,
            "grid_column": null,
            "overflow_y": null,
            "overflow_x": null,
            "grid_auto_flow": null,
            "grid_area": null,
            "grid_template_columns": null,
            "flex": null,
            "_model_name": "LayoutModel",
            "justify_items": null,
            "grid_row": null,
            "max_height": null,
            "align_content": null,
            "visibility": null,
            "align_self": null,
            "height": null,
            "min_height": null,
            "padding": null,
            "grid_auto_rows": null,
            "grid_gap": null,
            "max_width": null,
            "order": null,
            "_view_module_version": "1.2.0",
            "grid_template_areas": null,
            "object_position": null,
            "object_fit": null,
            "grid_auto_columns": null,
            "margin": null,
            "display": null,
            "left": null
          }
        },
        "f14a67b8d6aa41d5b50daecb458536ac": {
          "model_module": "@jupyter-widgets/controls",
          "model_name": "SliderStyleModel",
          "state": {
            "_view_name": "StyleView",
            "handle_color": null,
            "_model_name": "SliderStyleModel",
            "description_width": "",
            "_view_module": "@jupyter-widgets/base",
            "_model_module_version": "1.5.0",
            "_view_count": null,
            "_view_module_version": "1.2.0",
            "_model_module": "@jupyter-widgets/controls"
          }
        },
        "7d0f02ef9d7140058cd78d4b5e009dc1": {
          "model_module": "@jupyter-widgets/base",
          "model_name": "LayoutModel",
          "state": {
            "_view_name": "LayoutView",
            "grid_template_rows": null,
            "right": null,
            "justify_content": null,
            "_view_module": "@jupyter-widgets/base",
            "overflow": null,
            "_model_module_version": "1.2.0",
            "_view_count": null,
            "flex_flow": null,
            "width": null,
            "min_width": null,
            "border": null,
            "align_items": null,
            "bottom": null,
            "_model_module": "@jupyter-widgets/base",
            "top": null,
            "grid_column": null,
            "overflow_y": null,
            "overflow_x": null,
            "grid_auto_flow": null,
            "grid_area": null,
            "grid_template_columns": null,
            "flex": null,
            "_model_name": "LayoutModel",
            "justify_items": null,
            "grid_row": null,
            "max_height": null,
            "align_content": null,
            "visibility": null,
            "align_self": null,
            "height": null,
            "min_height": null,
            "padding": null,
            "grid_auto_rows": null,
            "grid_gap": null,
            "max_width": null,
            "order": null,
            "_view_module_version": "1.2.0",
            "grid_template_areas": null,
            "object_position": null,
            "object_fit": null,
            "grid_auto_columns": null,
            "margin": null,
            "display": null,
            "left": null
          }
        },
        "391c140cc48b42b8945a2c6bea01c323": {
          "model_module": "@jupyter-widgets/base",
          "model_name": "LayoutModel",
          "state": {
            "_view_name": "LayoutView",
            "grid_template_rows": null,
            "right": null,
            "justify_content": null,
            "_view_module": "@jupyter-widgets/base",
            "overflow": null,
            "_model_module_version": "1.2.0",
            "_view_count": null,
            "flex_flow": null,
            "width": null,
            "min_width": null,
            "border": null,
            "align_items": null,
            "bottom": null,
            "_model_module": "@jupyter-widgets/base",
            "top": null,
            "grid_column": null,
            "overflow_y": null,
            "overflow_x": null,
            "grid_auto_flow": null,
            "grid_area": null,
            "grid_template_columns": null,
            "flex": null,
            "_model_name": "LayoutModel",
            "justify_items": null,
            "grid_row": null,
            "max_height": null,
            "align_content": null,
            "visibility": null,
            "align_self": null,
            "height": "350px",
            "min_height": null,
            "padding": null,
            "grid_auto_rows": null,
            "grid_gap": null,
            "max_width": null,
            "order": null,
            "_view_module_version": "1.2.0",
            "grid_template_areas": null,
            "object_position": null,
            "object_fit": null,
            "grid_auto_columns": null,
            "margin": null,
            "display": null,
            "left": null
          }
        }
      }
    }
  },
  "cells": [
    {
      "cell_type": "code",
      "metadata": {
        "colab": {
          "base_uri": "https://localhost:8080/"
        },
        "id": "HgpKjCsOO2Ow",
        "outputId": "529801cb-e39f-42bc-9dcc-50e69ea1b68d"
      },
      "source": [
        "!nvidia-smi"
      ],
      "execution_count": null,
      "outputs": [
        {
          "output_type": "stream",
          "text": [
            "Thu Jun 24 16:46:48 2021       \n",
            "+-----------------------------------------------------------------------------+\n",
            "| NVIDIA-SMI 465.27       Driver Version: 460.32.03    CUDA Version: 11.2     |\n",
            "|-------------------------------+----------------------+----------------------+\n",
            "| GPU  Name        Persistence-M| Bus-Id        Disp.A | Volatile Uncorr. ECC |\n",
            "| Fan  Temp  Perf  Pwr:Usage/Cap|         Memory-Usage | GPU-Util  Compute M. |\n",
            "|                               |                      |               MIG M. |\n",
            "|===============================+======================+======================|\n",
            "|   0  Tesla T4            Off  | 00000000:00:04.0 Off |                    0 |\n",
            "| N/A   74C    P8    12W /  70W |      0MiB / 15109MiB |      0%      Default |\n",
            "|                               |                      |                  N/A |\n",
            "+-------------------------------+----------------------+----------------------+\n",
            "                                                                               \n",
            "+-----------------------------------------------------------------------------+\n",
            "| Processes:                                                                  |\n",
            "|  GPU   GI   CI        PID   Type   Process name                  GPU Memory |\n",
            "|        ID   ID                                                   Usage      |\n",
            "|=============================================================================|\n",
            "|  No running processes found                                                 |\n",
            "+-----------------------------------------------------------------------------+\n"
          ],
          "name": "stdout"
        }
      ]
    },
    {
      "cell_type": "code",
      "metadata": {
        "colab": {
          "base_uri": "https://localhost:8080/"
        },
        "id": "crLl0d3UyBef",
        "outputId": "5b237bf6-8274-4949-f533-52b457601b8b"
      },
      "source": [
        "!pip install einops"
      ],
      "execution_count": 2,
      "outputs": [
        {
          "output_type": "stream",
          "text": [
            "Collecting einops\n",
            "  Downloading https://files.pythonhosted.org/packages/5d/a0/9935e030634bf60ecd572c775f64ace82ceddf2f504a5fd3902438f07090/einops-0.3.0-py2.py3-none-any.whl\n",
            "Installing collected packages: einops\n",
            "Successfully installed einops-0.3.0\n"
          ],
          "name": "stdout"
        }
      ]
    },
    {
      "cell_type": "code",
      "metadata": {
        "id": "7ohrZE_4oCWl"
      },
      "source": [
        "import numpy as np\n",
        "import matplotlib.pyplot as plt\n",
        "import random\n",
        "import gc\n",
        "from math import exp\n",
        "from einops import rearrange, reduce, repeat\n",
        "from einops.layers.torch import Rearrange\n",
        "\n",
        "import torch\n",
        "from torch import nn\n",
        "from torch import optim\n",
        "import torch.nn.functional as F\n",
        "from torch.autograd import Variable"
      ],
      "execution_count": 3,
      "outputs": []
    },
    {
      "cell_type": "code",
      "metadata": {
        "id": "zZ9mXASwO4Mo"
      },
      "source": [
        "device = torch.device(\"cuda:0\" if torch.cuda.is_available() else \"cpu\")"
      ],
      "execution_count": 4,
      "outputs": []
    },
    {
      "cell_type": "code",
      "metadata": {
        "id": "0JAY3lUcKTev"
      },
      "source": [
        "def gaussian(window_size, sigma):\n",
        "    gauss = torch.Tensor([exp(-(x - window_size//2)**2/float(2*sigma**2)) for x in range(window_size)])\n",
        "    return gauss/gauss.sum()\n",
        "\n",
        "def create_window(window_size, channel):\n",
        "    _1D_window = gaussian(window_size, 1.5).unsqueeze(1)\n",
        "    _2D_window = _1D_window.mm(_1D_window.t()).float().unsqueeze(0).unsqueeze(0)\n",
        "    window = Variable(_2D_window.expand(channel, 1, window_size, window_size).contiguous())\n",
        "    return window\n",
        "\n",
        "def _ssim(img1, img2, mask, window, window_size, channel, size_average = True):\n",
        "    mu1 = F.conv2d(img1, window, padding = window_size//2, groups = channel)\n",
        "    mu2 = F.conv2d(img2, window, padding = window_size//2, groups = channel)\n",
        "\n",
        "    mu1_sq = mu1.pow(2)\n",
        "    mu2_sq = mu2.pow(2)\n",
        "    mu1_mu2 = mu1*mu2\n",
        "\n",
        "    sigma1_sq = F.conv2d(img1*img1, window, padding = window_size//2, groups = channel) - mu1_sq\n",
        "    sigma2_sq = F.conv2d(img2*img2, window, padding = window_size//2, groups = channel) - mu2_sq\n",
        "    sigma12 = F.conv2d(img1*img2, window, padding = window_size//2, groups = channel) - mu1_mu2\n",
        "\n",
        "    C1 = 0.01**2\n",
        "    C2 = 0.03**2\n",
        "\n",
        "    ssim_map = ((2*mu1_mu2 + C1)*(2*sigma12 + C2))/((mu1_sq + mu2_sq + C1)*(sigma1_sq + sigma2_sq + C2))\n",
        "    ssim_map = ssim_map*mask\n",
        "\n",
        "    if size_average:\n",
        "        return (ssim_map.mean(1).mean(1).mean(1)/mask.mean(1).mean(1).mean(1)).mean()\n",
        "    else:\n",
        "        return ssim_map.mean(1).mean(1).mean(1)/mask.mean(1).mean(1).mean(1)\n",
        "\n",
        "class SSIM(torch.nn.Module):\n",
        "    def __init__(self, window_size = 11, size_average = True):\n",
        "        super(SSIM, self).__init__()\n",
        "        self.window_size = window_size\n",
        "        self.size_average = size_average\n",
        "        self.channel = 1\n",
        "        self.window = create_window(window_size, self.channel)\n",
        "\n",
        "    def forward(self, img1, img2, mask):\n",
        "        (_, channel, _, _) = img1.size()\n",
        "\n",
        "        if channel == self.channel and self.window.data.type() == img1.data.type():\n",
        "            window = self.window\n",
        "        else:\n",
        "            window = create_window(self.window_size, channel)\n",
        "            \n",
        "            if img1.is_cuda:\n",
        "                window = window.cuda(img1.get_device())\n",
        "            window = window.type_as(img1)\n",
        "            \n",
        "            self.window = window\n",
        "            self.channel = channel\n",
        "\n",
        "\n",
        "        return _ssim(img1, img2, mask, window, self.window_size, channel, self.size_average)\n",
        "\n",
        "def ssim(img1, img2, mask, window_size = 11, size_average = True):\n",
        "    (_, channel, _, _) = img1.size()\n",
        "    window = create_window(window_size, channel)\n",
        "    \n",
        "    if img1.is_cuda:\n",
        "        window = window.cuda(img1.get_device())\n",
        "    window = window.type_as(img1)\n",
        "    \n",
        "    return _ssim(img1, img2, window, window_size, channel, size_average)"
      ],
      "execution_count": null,
      "outputs": []
    },
    {
      "cell_type": "code",
      "metadata": {
        "id": "6NHPRRcZu9D3"
      },
      "source": [
        "def create_enc(in_dim, dim, head_num, head_dim, layer_num):\n",
        "  net = nn.Sequential(\n",
        "      *[\n",
        "       nn.Sequential(\n",
        "        nn.Conv3d(in_dim if i==0 else dim//2**(layer_num-i),dim//2**(layer_num-i-1),(1,4,4),stride=(1,2,2),padding=(0,1,1)),\n",
        "        nn.ReLU(),\n",
        "        nn.GroupNorm(1,dim//2**(layer_num-i-1)), \n",
        "       ) for i in range(layer_num)\n",
        "      ],\n",
        "\n",
        "      nn.Conv3d(dim,head_num*head_dim,1),\n",
        "    )\n",
        "  return net"
      ],
      "execution_count": 19,
      "outputs": []
    },
    {
      "cell_type": "code",
      "metadata": {
        "id": "NcLhUkNxk-Hs"
      },
      "source": [
        "# v_net = create_enc(3,128,8,64,2)\n",
        "# k_net = create_enc(39,128,8,64,2)\n",
        "# q_net = create_enc(39,256,8,64,3)\n",
        "# values = v_net(torch.randn(1,3,10,64,64))\n",
        "# keys = k_net(torch.randn(1,39,10,64,64))\n",
        "# querys = q_net(torch.randn(2,39,64,64,64))\n",
        "# values.shape, keys.shape, querys.shape"
      ],
      "execution_count": null,
      "outputs": []
    },
    {
      "cell_type": "code",
      "metadata": {
        "id": "SUN6ujkJqryy"
      },
      "source": [
        "def mapping(q, k, v, head_num):\n",
        "  b, c, D, H, W = q.shape\n",
        "  dk = c/head_num\n",
        "\n",
        "  q = rearrange(q, 'b (h d) D H W -> b h (D H W) d', h=head_num)\n",
        "  k = rearrange(k, 'b (h d) D H W -> b h (D H W) d', h=head_num)\n",
        "  v = rearrange(v, 'b (h d) D H W -> b h (D H W) d', h=head_num)\n",
        "\n",
        "  map = torch.softmax(torch.einsum('bhLd,bhSd->bhLS', q, k)/(dk**0.5), -1)\n",
        "  head_out = torch.einsum('bhLS,bhSd->bhLd', map, v)\n",
        "  mu, logvar = rearrange(head_out, 'b h (D H W) (k d) -> k b (h d) D H W', D=D, H=H, W=W, k=2)[:,...]\n",
        "    \n",
        "  return mu, logvar"
      ],
      "execution_count": 20,
      "outputs": []
    },
    {
      "cell_type": "code",
      "metadata": {
        "id": "SnlpEyo7N9DL"
      },
      "source": [
        "def reparameterize(mu, logvar):\n",
        "  std = logvar.mul(0.5).exp_()\n",
        "  # return torch.normal(mu, std)\n",
        "  esp = torch.randn_like(mu)\n",
        "  z = mu + std * esp\n",
        "  return z"
      ],
      "execution_count": 21,
      "outputs": []
    },
    {
      "cell_type": "code",
      "metadata": {
        "id": "7IRjET0pOI_f"
      },
      "source": [
        "def kl_divergence(mu, logvar):\n",
        "  return -0.5 * torch.mean(1 + logvar - mu.pow(2) - logvar.exp())"
      ],
      "execution_count": 22,
      "outputs": []
    },
    {
      "cell_type": "code",
      "metadata": {
        "id": "nE5szjz5yWI6"
      },
      "source": [
        "# z = mapping(querys, keys, values, 8)\n",
        "# z.shape"
      ],
      "execution_count": null,
      "outputs": []
    },
    {
      "cell_type": "code",
      "metadata": {
        "id": "0tYOZB3exBJ4"
      },
      "source": [
        "def create_dec(out_dim, dim, head_num, head_dim, layer_num):\n",
        "  net = nn.Sequential(\n",
        "      nn.Conv3d(head_num*head_dim,head_num*head_dim,(1,3,3),padding=(0,1,1),groups=head_num),\n",
        "      nn.ReLU(),\n",
        "      nn.GroupNorm(1,head_num*head_dim),\n",
        "      nn.Conv3d(head_num*head_dim,dim,1,),\n",
        "      nn.ReLU(),\n",
        "      nn.GroupNorm(1,dim),\n",
        "\n",
        "      *[\n",
        "       nn.Sequential(\n",
        "        nn.ConvTranspose3d(dim//2**i,dim//2**(i+1),(1,4,4),stride=(1,2,2),padding=(0,1,1),),\n",
        "        nn.ReLU(),\n",
        "        nn.GroupNorm(1,dim//2**(i+1)),\n",
        "       ) for i in range(layer_num)\n",
        "      ],\n",
        "\n",
        "      nn.Conv3d(dim//2**(layer_num),out_dim,1),\n",
        "    )\n",
        "  return net"
      ],
      "execution_count": 23,
      "outputs": []
    },
    {
      "cell_type": "code",
      "metadata": {
        "id": "PC-zJ0eu0E4G"
      },
      "source": [
        "# dec_net = create_dec(4, 256, 8, 64, 3)\n",
        "# dec_net(z).shape"
      ],
      "execution_count": null,
      "outputs": []
    },
    {
      "cell_type": "code",
      "metadata": {
        "id": "J0rhLw673uOV"
      },
      "source": [
        "def load_data(path):\n",
        "  data = np.load(path, allow_pickle=True)\n",
        "  imgs = data[\"imgs\"]\n",
        "  poses = data[\"poses\"]\n",
        "  render_poses = data[\"render_poses\"]\n",
        "  [H, W, focal] = data[\"hwf\"]\n",
        "  i_split = data[\"i_split\"]\n",
        "  \n",
        "  return imgs, poses, render_poses, [H, W, focal], i_split"
      ],
      "execution_count": 24,
      "outputs": []
    },
    {
      "cell_type": "code",
      "metadata": {
        "id": "yYqOJgnxbDxw"
      },
      "source": [
        "def posenc(pts, L_embed):\n",
        "  rets = [pts]\n",
        "  for i in range(L_embed):\n",
        "    for fn in [torch.sin, torch.cos]:\n",
        "      rets.append(fn(2.**i * pts))\n",
        "  return torch.cat(rets, 1)\n",
        "\n",
        "def sample_z(near, far, N_samples, H=1, W=1, bz=1, rand=False,):\n",
        "  z_vals = torch.linspace(near, far, N_samples,).to(device)\n",
        "  z_vals = repeat(z_vals, 'n -> b 1 n h w', b=bz, h=H, w=W)\n",
        "  if rand:\n",
        "    z_vals = z_vals + torch.rand_like(z_vals).to(device) * (far-near)/N_samples\n",
        "  return z_vals\n",
        "\n",
        "def sample_points(rays_o, rays_d, z_vals,):\n",
        "  pts = rays_o[:,:,np.newaxis,...] + rays_d[:,:,np.newaxis,...] * z_vals\n",
        "  return pts\n",
        "\n",
        "def get_rays(H, W, focal, c2ws):\n",
        "  b = c2ws.shape[0]\n",
        "  # x:(H, W)\n",
        "  # y:(H, W)\n",
        "  y ,x = torch.meshgrid(torch.arange(0, H), torch.arange(0, W),)\n",
        "\n",
        "  # dirs:(3, H, W)\n",
        "  dirs = torch.stack([(x-W*.5)/focal, -(y-H*.5)/focal, -torch.ones(H,W)], 0).to(device)\n",
        "\n",
        "  # c2ws[...,:3,:3]:(B, 3, 3)\n",
        "  # rays_d:(B, 3, H, W)\n",
        "  rays_d = torch.einsum(\"vhw,buv->buhw\", dirs, c2ws[...,:3,:3])\n",
        "\n",
        "  # c2w[...,:3,-1]:(B, 3)\n",
        "  # rays_o:(B, 3, H, W)\n",
        "  rays_o = torch.broadcast_to(c2ws[...,:3,-1].reshape(b,3,1,1), rays_d.shape)\n",
        "  return rays_o, rays_d"
      ],
      "execution_count": 25,
      "outputs": []
    },
    {
      "cell_type": "code",
      "metadata": {
        "id": "ZlLu0cyiiEMJ"
      },
      "source": [
        "near = 2\n",
        "far = 6\n",
        "N_samples = 64\n",
        "base_num = 4\n",
        "\n",
        "L_embed = 12\n",
        "dim = 256\n",
        "head_num = 32\n",
        "head_dim = 32"
      ],
      "execution_count": 48,
      "outputs": []
    },
    {
      "cell_type": "code",
      "metadata": {
        "id": "Ku7PEmZ7znor"
      },
      "source": [
        "v_net = create_enc(3, dim, head_num, head_dim*2, 3).to(device)\n",
        "k_net = create_enc((L_embed*2+1)*3, dim, head_num, head_dim, 3).to(device)\n",
        "q_net = create_enc((L_embed*2+1)*3, dim, head_num, head_dim, 3).to(device)\n",
        "dec_net = create_dec(4, dim, head_num, head_dim, 3).to(device)"
      ],
      "execution_count": 27,
      "outputs": []
    },
    {
      "cell_type": "code",
      "metadata": {
        "id": "5SoHn8Djh2Ub",
        "colab": {
          "base_uri": "https://localhost:8080/"
        },
        "outputId": "8acfcd2d-9eba-41cf-b214-cd3f2a694353"
      },
      "source": [
        "checkpoint = torch.load(\"./decoupling_nerf-vae_state.pt\", map_location=device)\n",
        "\n",
        "v_net.load_state_dict(checkpoint['v_net_state_dict'])\n",
        "k_net.load_state_dict(checkpoint['k_net_state_dict'])\n",
        "q_net.load_state_dict(checkpoint['q_net_state_dict'])\n",
        "dec_net.load_state_dict(checkpoint['dec_net_state_dict'])"
      ],
      "execution_count": 45,
      "outputs": [
        {
          "output_type": "execute_result",
          "data": {
            "text/plain": [
              "<All keys matched successfully>"
            ]
          },
          "metadata": {
            "tags": []
          },
          "execution_count": 45
        }
      ]
    },
    {
      "cell_type": "code",
      "metadata": {
        "id": "xpx4rWrcDq1Y"
      },
      "source": [
        "imgs, poses, render_poses, hwf, _ = load_data(\"./lego-64.npz\")\n",
        "imgs = rearrange(imgs, 'b H W c -> b c H W')\n",
        "indices = np.arange(0,400)\n",
        "np.random.shuffle(indices)\n",
        "base_idx = indices[:base_num]"
      ],
      "execution_count": 50,
      "outputs": []
    },
    {
      "cell_type": "code",
      "metadata": {
        "colab": {
          "base_uri": "https://localhost:8080/",
          "height": 463,
          "referenced_widgets": [
            "f50eb1d3f3e64f8a9527cba8126d793b",
            "d6f778a10ef947ee86a03b95bb455356",
            "12575337a83e4844a0fb0631aed84191",
            "a7962dfe18ab4a68abbb837ce022a54a",
            "e2230e07cc9a4e8c88282249f1a9fa7d",
            "1ebbf4251eb24151ba218d525823b982",
            "b083873b03824df59ba4f830522c16be",
            "4bc6b17b72f844f4a183a8867ea4762f",
            "f5d537e6e4e44eb89c954a72a27f5234",
            "c5ad9a292dd64cca9e5995b1b3976c9c",
            "f14a67b8d6aa41d5b50daecb458536ac",
            "7d0f02ef9d7140058cd78d4b5e009dc1",
            "391c140cc48b42b8945a2c6bea01c323"
          ]
        },
        "id": "__xI-a4aBZBU",
        "outputId": "3e4dfb88-b9d7-410b-9952-7d074dc673a6"
      },
      "source": [
        "%matplotlib inline\n",
        "from math import sin, cos\n",
        "from ipywidgets import interactive, widgets\n",
        "\n",
        "\n",
        "trans_t = lambda t : torch.tensor([\n",
        "    [1.,0,0,0],\n",
        "    [0,1,0,0],\n",
        "    [0,0,1,t],\n",
        "    [0,0,0,1],\n",
        "],device=device)\n",
        "\n",
        "rot_phi = lambda phi : torch.tensor([\n",
        "    [1.,0,0,0],\n",
        "    [0,cos(phi),-sin(phi),0],\n",
        "    [0,sin(phi), cos(phi),0],\n",
        "    [0,0,0,1],\n",
        "],device=device)\n",
        "\n",
        "rot_theta = lambda th : torch.tensor([\n",
        "    [cos(th),0,-sin(th),0],\n",
        "    [0,1,0,0],\n",
        "    [sin(th),0, cos(th),0],\n",
        "    [0,0,0,1],\n",
        "],device=device)\n",
        "\n",
        "\n",
        "def pose_spherical(theta, phi, radius):\n",
        "  c2w = trans_t(radius)\n",
        "  c2w = rot_phi(phi/180.*np.pi) @ c2w\n",
        "  c2w = rot_theta(theta/180.*np.pi) @ c2w\n",
        "  c2w = torch.tensor([[-1.,0,0,0],[0,0,1,0],[0,1,0,0],[0,0,0,1]]) @ c2w\n",
        "  return c2w\n",
        "\n",
        "\n",
        "def f(**kwargs):\n",
        "  with torch.no_grad():\n",
        "    base_img = torch.tensor(imgs[base_idx,:-1,...]).type(torch.FloatTensor).to(device)\n",
        "    base_img = rearrange(base_img, 'b c H W -> 1 c b H W')\n",
        "    H, W, focal = hwf\n",
        "    H, W = int(H), int(W)\n",
        "    \n",
        "    base_rays_o, base_rays_d = get_rays(H, W, focal, torch.tensor(poses[base_idx],device=device))\n",
        "    base_z_vals = sample_z(near, far, 1, 1, 1, 1)\n",
        "    base_pts = sample_points(base_rays_o, base_rays_d, base_z_vals)\n",
        "    base_pos = posenc(base_pts, L_embed)\n",
        "    base_pos = rearrange(base_pos, 'b e 1 H W -> 1 e b H W')\n",
        "\n",
        "    c2w = pose_spherical(**kwargs)\n",
        "    c2ws = rearrange(c2w, 'u v -> 1 u v')\n",
        "    target_rays_o, target_rays_d = get_rays(H, W, focal, c2ws)\n",
        "    target_z_vals = sample_z(near, far, N_samples, 1, 1, 1, True)\n",
        "    target_pts = sample_points(target_rays_o, target_rays_d, target_z_vals)\n",
        "    target_pos = posenc(target_pts, L_embed)\n",
        "\n",
        "    q = q_net(target_pos)\n",
        "    k = k_net(base_pos)\n",
        "    v = v_net(base_img)\n",
        "    mu, logvar = mapping(q, k, v, head_num)\n",
        "    z = reparameterize(mu, logvar)\n",
        "    rgba = dec_net(z)\n",
        "\n",
        "    rgb = torch.sigmoid(rgba[:,:3,...])\n",
        "    sigma_a = F.relu(rgba[:,3:,...])\n",
        "    \n",
        "    # Do volume rendering\n",
        "    dists = torch.cat([target_z_vals[:,:,1:,...] - target_z_vals[:,:,:-1,...], torch.ones(1, 1, 1, 1, 1, device=device)*1e10], 2) \n",
        "    alpha = 1.-torch.exp(-sigma_a * dists)\n",
        "    _alpha = (1.-alpha + 1e-10)[:,:,:-1,...]\n",
        "    _alpha = torch.cat([torch.ones(1, 1, 1, H, W, device=device), _alpha],2)\n",
        "    weights = alpha * torch.cumprod(_alpha, 2)\n",
        "    rgb_map = torch.sum(weights * rgb, 2)\n",
        "    out_img = rearrange(rgb_map, '1 c H W -> H W c').detach().numpy()\n",
        "    \n",
        "  plt.figure(2, figsize=(20,6))\n",
        "  plt.imshow(out_img)\n",
        "  plt.show()\n",
        "    \n",
        "\n",
        "sldr = lambda v, mi, ma: widgets.FloatSlider(\n",
        "    value=v,\n",
        "    min=mi,\n",
        "    max=ma,\n",
        "    step=.01,\n",
        ")\n",
        "\n",
        "names = [\n",
        "    ['theta', [100., 0., 360]],\n",
        "    ['phi', [-30., -90, 0]],\n",
        "    ['radius', [4., 3., 5.]],\n",
        "]\n",
        "\n",
        "interactive_plot = interactive(f, **{s[0] : sldr(*s[1]) for s in names})\n",
        "output = interactive_plot.children[-1]\n",
        "output.layout.height = '350px'\n",
        "interactive_plot"
      ],
      "execution_count": 52,
      "outputs": [
        {
          "output_type": "display_data",
          "data": {
            "application/vnd.jupyter.widget-view+json": {
              "model_id": "f50eb1d3f3e64f8a9527cba8126d793b",
              "version_minor": 0,
              "version_major": 2
            },
            "text/plain": [
              "interactive(children=(FloatSlider(value=100.0, description='theta', max=360.0, step=0.01), FloatSlider(value=-…"
            ]
          },
          "metadata": {
            "tags": []
          }
        }
      ]
    }
  ]
}