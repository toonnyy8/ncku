{
  "nbformat": 4,
  "nbformat_minor": 0,
  "metadata": {
    "colab": {
      "name": "歡迎使用 Colaboratory",
      "provenance": [],
      "collapsed_sections": [],
      "toc_visible": true
    },
    "kernelspec": {
      "display_name": "Python 3",
      "name": "python3"
    },
    "accelerator": "GPU"
  },
  "cells": [
    {
      "cell_type": "code",
      "metadata": {
        "id": "EOOT132mNF3A"
      },
      "source": [
        "import tensorflow as tf\n",
        "[(x_train, y_train), (x_test, y_test)]=tf.keras.datasets.cifar10.load_data()"
      ],
      "execution_count": 1,
      "outputs": []
    },
    {
      "cell_type": "code",
      "metadata": {
        "id": "qL4wUiLDNQpy"
      },
      "source": [
        "model = tf.keras.models.Sequential()\n",
        "model.add(tf.keras.Input(shape=(32,32,3)))\n",
        "\n",
        "model.add(tf.keras.layers.Conv2D(filters=64, kernel_size=3, strides=1, padding=\"same\", activation=\"relu\"))\n",
        "model.add(tf.keras.layers.Conv2D(filters=64, kernel_size=3, strides=1, padding=\"same\", activation=\"relu\"))\n",
        "model.add(tf.keras.layers.MaxPool2D(2))\n",
        "\n",
        "model.add(tf.keras.layers.Conv2D(filters=128, kernel_size=3, strides=1, padding=\"same\", activation=\"relu\"))\n",
        "model.add(tf.keras.layers.Conv2D(filters=128, kernel_size=3, strides=1, padding=\"same\", activation=\"relu\"))\n",
        "model.add(tf.keras.layers.MaxPool2D(2))\n",
        "\n",
        "model.add(tf.keras.layers.Conv2D(filters=256, kernel_size=3, strides=1, padding=\"same\", activation=\"relu\"))\n",
        "model.add(tf.keras.layers.Conv2D(filters=256, kernel_size=3, strides=1, padding=\"same\", activation=\"relu\"))\n",
        "model.add(tf.keras.layers.Conv2D(filters=256, kernel_size=3, strides=1, padding=\"same\", activation=\"relu\"))\n",
        "model.add(tf.keras.layers.MaxPool2D(2))\n",
        "\n",
        "model.add(tf.keras.layers.Conv2D(filters=512, kernel_size=3, strides=1, padding=\"same\", activation=\"relu\"))\n",
        "model.add(tf.keras.layers.Conv2D(filters=512, kernel_size=3, strides=1, padding=\"same\", activation=\"relu\"))\n",
        "model.add(tf.keras.layers.Conv2D(filters=512, kernel_size=3, strides=1, padding=\"same\", activation=\"relu\"))\n",
        "model.add(tf.keras.layers.MaxPool2D(2))\n",
        "\n",
        "model.add(tf.keras.layers.Conv2D(filters=512, kernel_size=3, strides=1, padding=\"same\", activation=\"relu\"))\n",
        "model.add(tf.keras.layers.Conv2D(filters=512, kernel_size=3, strides=1, padding=\"same\", activation=\"relu\"))\n",
        "model.add(tf.keras.layers.Conv2D(filters=512, kernel_size=3, strides=1, padding=\"same\", activation=\"relu\"))\n",
        "model.add(tf.keras.layers.MaxPool2D(2))\n",
        "\n",
        "model.add(tf.keras.layers.Flatten())\n",
        "\n",
        "model.add(tf.keras.layers.Dense(4096,\"relu\"))\n",
        "model.add(tf.keras.layers.Dense(4096,\"relu\"))\n",
        "\n",
        "model.add(tf.keras.layers.Dense(10,\"softmax\"))\n",
        "\n",
        "model.build()\n",
        "model.compile(\"adamax\",loss=tf.keras.losses.categorical_crossentropy,metrics=[tf.keras.metrics.categorical_accuracy])"
      ],
      "execution_count": 2,
      "outputs": []
    },
    {
      "cell_type": "code",
      "metadata": {
        "id": "E-BsL76MQQ1A",
        "outputId": "ad6d0acf-ecff-4fd2-d860-c8cbbc80c3b5",
        "colab": {
          "base_uri": "https://localhost:8080/",
          "height": 1000
        }
      },
      "source": [
        "model.fit(\n",
        "  x_train,\n",
        "  tf.reshape(tf.one_hot(y_train,10),[-1,10]),\n",
        "  64,\n",
        "  50,\n",
        "  validation_data=(x_test, tf.reshape(tf.one_hot(y_test,10),[-1,10]))\n",
        ")"
      ],
      "execution_count": 4,
      "outputs": [
        {
          "output_type": "stream",
          "text": [
            "Epoch 1/50\n",
            "  2/782 [..............................] - ETA: 37s - loss: 1.2604 - categorical_accuracy: 0.5391WARNING:tensorflow:Callbacks method `on_train_batch_end` is slow compared to the batch time (batch time: 0.0181s vs `on_train_batch_end` time: 0.0396s). Check your callbacks.\n",
            "782/782 [==============================] - 34s 43ms/step - loss: 1.2337 - categorical_accuracy: 0.5412 - val_loss: 1.0900 - val_categorical_accuracy: 0.6098\n",
            "Epoch 2/50\n",
            "782/782 [==============================] - 34s 43ms/step - loss: 0.9977 - categorical_accuracy: 0.6468 - val_loss: 1.0333 - val_categorical_accuracy: 0.6470\n",
            "Epoch 3/50\n",
            "782/782 [==============================] - 34s 44ms/step - loss: 0.8239 - categorical_accuracy: 0.7154 - val_loss: 0.8957 - val_categorical_accuracy: 0.6952\n",
            "Epoch 4/50\n",
            "782/782 [==============================] - 34s 44ms/step - loss: 0.6876 - categorical_accuracy: 0.7657 - val_loss: 0.7986 - val_categorical_accuracy: 0.7318\n",
            "Epoch 5/50\n",
            "782/782 [==============================] - 34s 43ms/step - loss: 0.5640 - categorical_accuracy: 0.8082 - val_loss: 0.7610 - val_categorical_accuracy: 0.7474\n",
            "Epoch 6/50\n",
            "782/782 [==============================] - 34s 43ms/step - loss: 0.4632 - categorical_accuracy: 0.8425 - val_loss: 0.7999 - val_categorical_accuracy: 0.7577\n",
            "Epoch 7/50\n",
            "782/782 [==============================] - 34s 43ms/step - loss: 0.3616 - categorical_accuracy: 0.8772 - val_loss: 0.7516 - val_categorical_accuracy: 0.7698\n",
            "Epoch 8/50\n",
            "782/782 [==============================] - 34s 44ms/step - loss: 0.2808 - categorical_accuracy: 0.9059 - val_loss: 0.7963 - val_categorical_accuracy: 0.7682\n",
            "Epoch 9/50\n",
            "782/782 [==============================] - 34s 43ms/step - loss: 0.2189 - categorical_accuracy: 0.9276 - val_loss: 0.9033 - val_categorical_accuracy: 0.7665\n",
            "Epoch 10/50\n",
            "782/782 [==============================] - 34s 43ms/step - loss: 0.1691 - categorical_accuracy: 0.9443 - val_loss: 0.9936 - val_categorical_accuracy: 0.7639\n",
            "Epoch 11/50\n",
            "782/782 [==============================] - 34s 44ms/step - loss: 0.1302 - categorical_accuracy: 0.9583 - val_loss: 1.0091 - val_categorical_accuracy: 0.7659\n",
            "Epoch 12/50\n",
            "782/782 [==============================] - 34s 43ms/step - loss: 0.1093 - categorical_accuracy: 0.9642 - val_loss: 1.0801 - val_categorical_accuracy: 0.7765\n",
            "Epoch 13/50\n",
            "782/782 [==============================] - 34s 44ms/step - loss: 0.0948 - categorical_accuracy: 0.9700 - val_loss: 1.0989 - val_categorical_accuracy: 0.7761\n",
            "Epoch 14/50\n",
            "782/782 [==============================] - 34s 44ms/step - loss: 0.0794 - categorical_accuracy: 0.9746 - val_loss: 1.0581 - val_categorical_accuracy: 0.7815\n",
            "Epoch 15/50\n",
            "782/782 [==============================] - 34s 43ms/step - loss: 0.0688 - categorical_accuracy: 0.9783 - val_loss: 1.1999 - val_categorical_accuracy: 0.7807\n",
            "Epoch 16/50\n",
            "782/782 [==============================] - 34s 44ms/step - loss: 0.0555 - categorical_accuracy: 0.9821 - val_loss: 1.2830 - val_categorical_accuracy: 0.7826\n",
            "Epoch 17/50\n",
            "782/782 [==============================] - 34s 44ms/step - loss: 0.0578 - categorical_accuracy: 0.9822 - val_loss: 1.0862 - val_categorical_accuracy: 0.7823\n",
            "Epoch 18/50\n",
            "782/782 [==============================] - 34s 44ms/step - loss: 0.0502 - categorical_accuracy: 0.9846 - val_loss: 1.2145 - val_categorical_accuracy: 0.7928\n",
            "Epoch 19/50\n",
            "782/782 [==============================] - 34s 44ms/step - loss: 0.0453 - categorical_accuracy: 0.9857 - val_loss: 1.3014 - val_categorical_accuracy: 0.7865\n",
            "Epoch 20/50\n",
            "782/782 [==============================] - 34s 44ms/step - loss: 0.0440 - categorical_accuracy: 0.9861 - val_loss: 1.3719 - val_categorical_accuracy: 0.7747\n",
            "Epoch 21/50\n",
            "782/782 [==============================] - 34s 44ms/step - loss: 0.0390 - categorical_accuracy: 0.9878 - val_loss: 1.2655 - val_categorical_accuracy: 0.7768\n",
            "Epoch 22/50\n",
            "782/782 [==============================] - 34s 44ms/step - loss: 0.0418 - categorical_accuracy: 0.9868 - val_loss: 1.3722 - val_categorical_accuracy: 0.7846\n",
            "Epoch 23/50\n",
            "782/782 [==============================] - 35s 44ms/step - loss: 0.0319 - categorical_accuracy: 0.9894 - val_loss: 1.2701 - val_categorical_accuracy: 0.7894\n",
            "Epoch 24/50\n",
            "782/782 [==============================] - 35s 44ms/step - loss: 0.0316 - categorical_accuracy: 0.9909 - val_loss: 1.3673 - val_categorical_accuracy: 0.7816\n",
            "Epoch 25/50\n",
            "782/782 [==============================] - 35s 44ms/step - loss: 0.0295 - categorical_accuracy: 0.9911 - val_loss: 1.4607 - val_categorical_accuracy: 0.7927\n",
            "Epoch 26/50\n",
            "782/782 [==============================] - 35s 44ms/step - loss: 0.0300 - categorical_accuracy: 0.9902 - val_loss: 1.5381 - val_categorical_accuracy: 0.7857\n",
            "Epoch 27/50\n",
            "782/782 [==============================] - 35s 44ms/step - loss: 0.0290 - categorical_accuracy: 0.9911 - val_loss: 1.1317 - val_categorical_accuracy: 0.7929\n",
            "Epoch 28/50\n",
            "782/782 [==============================] - 35s 44ms/step - loss: 0.0267 - categorical_accuracy: 0.9920 - val_loss: 1.1990 - val_categorical_accuracy: 0.7932\n",
            "Epoch 29/50\n",
            "782/782 [==============================] - 35s 44ms/step - loss: 0.0290 - categorical_accuracy: 0.9912 - val_loss: 1.2835 - val_categorical_accuracy: 0.7956\n",
            "Epoch 30/50\n",
            "782/782 [==============================] - 35s 44ms/step - loss: 0.0251 - categorical_accuracy: 0.9925 - val_loss: 1.5476 - val_categorical_accuracy: 0.7867\n",
            "Epoch 31/50\n",
            "782/782 [==============================] - 35s 44ms/step - loss: 0.0267 - categorical_accuracy: 0.9926 - val_loss: 1.3966 - val_categorical_accuracy: 0.7888\n",
            "Epoch 32/50\n",
            "782/782 [==============================] - 35s 44ms/step - loss: 0.0245 - categorical_accuracy: 0.9924 - val_loss: 1.4525 - val_categorical_accuracy: 0.7809\n",
            "Epoch 33/50\n",
            "782/782 [==============================] - 35s 44ms/step - loss: 0.0254 - categorical_accuracy: 0.9922 - val_loss: 1.1637 - val_categorical_accuracy: 0.7896\n",
            "Epoch 34/50\n",
            "782/782 [==============================] - 35s 44ms/step - loss: 0.0227 - categorical_accuracy: 0.9936 - val_loss: 1.3429 - val_categorical_accuracy: 0.7863\n",
            "Epoch 35/50\n",
            "782/782 [==============================] - 35s 45ms/step - loss: 0.0244 - categorical_accuracy: 0.9927 - val_loss: 1.2973 - val_categorical_accuracy: 0.7903\n",
            "Epoch 36/50\n",
            "782/782 [==============================] - 35s 44ms/step - loss: 0.0193 - categorical_accuracy: 0.9943 - val_loss: 1.4054 - val_categorical_accuracy: 0.7876\n",
            "Epoch 37/50\n",
            "782/782 [==============================] - 35s 44ms/step - loss: 0.0170 - categorical_accuracy: 0.9946 - val_loss: 1.6610 - val_categorical_accuracy: 0.7875\n",
            "Epoch 38/50\n",
            "782/782 [==============================] - 35s 44ms/step - loss: 0.0221 - categorical_accuracy: 0.9935 - val_loss: 1.3949 - val_categorical_accuracy: 0.7849\n",
            "Epoch 39/50\n",
            "782/782 [==============================] - 35s 44ms/step - loss: 0.0227 - categorical_accuracy: 0.9934 - val_loss: 1.5809 - val_categorical_accuracy: 0.7922\n",
            "Epoch 40/50\n",
            "782/782 [==============================] - 35s 44ms/step - loss: 0.0200 - categorical_accuracy: 0.9941 - val_loss: 1.3696 - val_categorical_accuracy: 0.7943\n",
            "Epoch 41/50\n",
            "782/782 [==============================] - 35s 44ms/step - loss: 0.0177 - categorical_accuracy: 0.9950 - val_loss: 1.4094 - val_categorical_accuracy: 0.7875\n",
            "Epoch 42/50\n",
            "782/782 [==============================] - 35s 44ms/step - loss: 0.0187 - categorical_accuracy: 0.9946 - val_loss: 1.4180 - val_categorical_accuracy: 0.7839\n",
            "Epoch 43/50\n",
            "782/782 [==============================] - 35s 44ms/step - loss: 0.0190 - categorical_accuracy: 0.9943 - val_loss: 1.8126 - val_categorical_accuracy: 0.7844\n",
            "Epoch 44/50\n",
            "782/782 [==============================] - 35s 44ms/step - loss: 0.0162 - categorical_accuracy: 0.9957 - val_loss: 1.5660 - val_categorical_accuracy: 0.7890\n",
            "Epoch 45/50\n",
            "782/782 [==============================] - 35s 44ms/step - loss: 0.0192 - categorical_accuracy: 0.9944 - val_loss: 1.6408 - val_categorical_accuracy: 0.7850\n",
            "Epoch 46/50\n",
            "782/782 [==============================] - 35s 44ms/step - loss: 0.0160 - categorical_accuracy: 0.9959 - val_loss: 1.9390 - val_categorical_accuracy: 0.8011\n",
            "Epoch 47/50\n",
            "782/782 [==============================] - 35s 44ms/step - loss: 0.0094 - categorical_accuracy: 0.9976 - val_loss: 1.7060 - val_categorical_accuracy: 0.7970\n",
            "Epoch 48/50\n",
            "782/782 [==============================] - 34s 44ms/step - loss: 0.0114 - categorical_accuracy: 0.9969 - val_loss: 1.8192 - val_categorical_accuracy: 0.7994\n",
            "Epoch 49/50\n",
            "782/782 [==============================] - 34s 44ms/step - loss: 0.0163 - categorical_accuracy: 0.9954 - val_loss: 1.8603 - val_categorical_accuracy: 0.7935\n",
            "Epoch 50/50\n",
            "782/782 [==============================] - 34s 44ms/step - loss: 0.0124 - categorical_accuracy: 0.9961 - val_loss: 1.7530 - val_categorical_accuracy: 0.7838\n"
          ],
          "name": "stdout"
        },
        {
          "output_type": "execute_result",
          "data": {
            "text/plain": [
              "<tensorflow.python.keras.callbacks.History at 0x7ff43258ccc0>"
            ]
          },
          "metadata": {
            "tags": []
          },
          "execution_count": 4
        }
      ]
    }
  ]
}