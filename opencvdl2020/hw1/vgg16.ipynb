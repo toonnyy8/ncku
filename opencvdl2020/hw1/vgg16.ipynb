{
  "nbformat": 4,
  "nbformat_minor": 0,
  "metadata": {
    "colab": {
      "name": "歡迎使用 Colaboratory",
      "provenance": [],
      "collapsed_sections": [],
      "toc_visible": true
    },
    "kernelspec": {
      "display_name": "Python 3",
      "name": "python3"
    },
    "accelerator": "GPU"
  },
  "cells": [
    {
      "cell_type": "code",
      "metadata": {
        "id": "EOOT132mNF3A"
      },
      "source": [
        "import tensorflow as tf\n",
        "[(x_train, y_train), (x_test, y_test)]=tf.keras.datasets.cifar10.load_data()"
      ],
      "execution_count": null,
      "outputs": []
    },
    {
      "cell_type": "code",
      "metadata": {
        "id": "qL4wUiLDNQpy"
      },
      "source": [
        "model = tf.keras.models.Sequential()\n",
        "model.add(tf.keras.Input(shape=(32,32,3)))\n",
        "\n",
        "model.add(tf.keras.layers.Conv2D(filters=64, kernel_size=3, strides=1, padding=\"same\", activation=\"relu\"))\n",
        "model.add(tf.keras.layers.Conv2D(filters=64, kernel_size=3, strides=1, padding=\"same\", activation=\"relu\"))\n",
        "model.add(tf.keras.layers.MaxPool2D(2))\n",
        "\n",
        "model.add(tf.keras.layers.Conv2D(filters=128, kernel_size=3, strides=1, padding=\"same\", activation=\"relu\"))\n",
        "model.add(tf.keras.layers.Conv2D(filters=128, kernel_size=3, strides=1, padding=\"same\", activation=\"relu\"))\n",
        "model.add(tf.keras.layers.MaxPool2D(2))\n",
        "\n",
        "model.add(tf.keras.layers.Conv2D(filters=256, kernel_size=3, strides=1, padding=\"same\", activation=\"relu\"))\n",
        "model.add(tf.keras.layers.Conv2D(filters=256, kernel_size=3, strides=1, padding=\"same\", activation=\"relu\"))\n",
        "model.add(tf.keras.layers.Conv2D(filters=256, kernel_size=3, strides=1, padding=\"same\", activation=\"relu\"))\n",
        "model.add(tf.keras.layers.MaxPool2D(2))\n",
        "\n",
        "model.add(tf.keras.layers.Conv2D(filters=512, kernel_size=3, strides=1, padding=\"same\", activation=\"relu\"))\n",
        "model.add(tf.keras.layers.Conv2D(filters=512, kernel_size=3, strides=1, padding=\"same\", activation=\"relu\"))\n",
        "model.add(tf.keras.layers.Conv2D(filters=512, kernel_size=3, strides=1, padding=\"same\", activation=\"relu\"))\n",
        "model.add(tf.keras.layers.MaxPool2D(2))\n",
        "\n",
        "model.add(tf.keras.layers.Conv2D(filters=512, kernel_size=3, strides=1, padding=\"same\", activation=\"relu\"))\n",
        "model.add(tf.keras.layers.Conv2D(filters=512, kernel_size=3, strides=1, padding=\"same\", activation=\"relu\"))\n",
        "model.add(tf.keras.layers.Conv2D(filters=512, kernel_size=3, strides=1, padding=\"same\", activation=\"relu\"))\n",
        "model.add(tf.keras.layers.MaxPool2D(2))\n",
        "\n",
        "model.add(tf.keras.layers.Flatten())\n",
        "\n",
        "model.add(tf.keras.layers.Dense(4096,\"relu\"))\n",
        "model.add(tf.keras.layers.Dense(4096,\"relu\"))\n",
        "\n",
        "model.add(tf.keras.layers.Dense(10,\"softmax\"))\n",
        "\n",
        "model.build()\n",
        "model.compile(\"adamax\",loss=tf.keras.losses.categorical_crossentropy,metrics=[tf.keras.metrics.categorical_accuracy])"
      ],
      "execution_count": null,
      "outputs": []
    },
    {
      "cell_type": "code",
      "metadata": {
        "id": "E-BsL76MQQ1A"
      },
      "source": [
        "model.fit(x_train,tf.reshape(tf.one_hot(y_train,10),[-1,10]),64,20,validation_data=(x_test, y_test))"
      ],
      "execution_count": null,
      "outputs": []
    }
  ]
}